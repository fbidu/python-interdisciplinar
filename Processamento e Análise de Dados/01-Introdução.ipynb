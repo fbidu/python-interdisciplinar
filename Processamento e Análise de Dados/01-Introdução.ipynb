{
 "cells": [
  {
   "cell_type": "markdown",
   "metadata": {},
   "source": [
    "# Introdução\n",
    "\n",
    "Neste módulo, lidaremos com um tópico que possui bastante atividades atualmente, a análise de dados. Cada capítulo nessa pasta pode ser lido de maneira independente.\n",
    "\n",
    "A era atual que vivemos é conhecida como \"[Era da Informação](https://en.wikipedia.org/wiki/Information_Age)\" justamente por conta do grande volume de dados que produzimos diariamente. Com o avanço de tecnologias como as redes sociais, a \"Internet das Coisas\" e a maior acessibilidade de tecnologia como um todo, nós temos uma quantidade crescente de [informações disponíveis](https://www.forbes.com/sites/bernardmarr/2018/05/21/how-much-data-do-we-create-every-day-the-mind-blowing-stats-everyone-should-read/#2f39248460ba)\n",
    "\n",
    "Processar volumes grandes de informação manualmente é desnecessário - e difícil! - quando podemos utilizar de ferramentas computacionais. Desde gerenciadores de planilhas até linguagens de programação, essas ferramentas permitem que nós expressemos um raciocínio lógio e o reproduzamos em escala. Quando conseguimos \"programar\" nossas análises em um código, fica mais fácil de replicarmos e processarmos volumes de informações que seriam intratáveis manualmente.\n",
    "\n",
    "## Processamento e Análise\n",
    "\n",
    "O título deste módulo divide esses dois itens para fins didáticos. Podemos denotar o processamento de dado como sendo a extração e limpeza de informações que já possuímos. Suponha que você tenha uma lista de cadastros de pessoas, alguns possuem data de nascimento e outros não\n",
    "\n",
    "| Nº | Nome    | Data de Nascimento |\n",
    "|----|---------|--------------------|\n",
    "| 1  | Marina  | 04/06/1998         |\n",
    "| 2  | Flávio  |                    |\n",
    "| 3  | Esther  | 20/04/2001         |\n",
    "| 4  | Júlia   | 07/05/1990         |\n",
    "| 5  | Marcelo | 10/08/1997         |\n",
    "| 6  | Mariane |                    |\n",
    "\n",
    "E suponha que o seu objetivo é calcular a média de idade dessas pessoas. Num primeiro momento você precisará ignorar todos os registros sem data de nascimento:\n",
    "\n",
    "| Nº | Nome    | Data de Nascimento |\n",
    "|----|---------|--------------------|\n",
    "| 1  | Marina  | 04/06/1998         |\n",
    "| 3  | Esther  | 20/04/2001         |\n",
    "| 4  | Júlia   | 07/05/1990         |\n",
    "| 5  | Marcelo | 10/08/1997         |\n",
    "\n",
    "Essa é uma etapa de processamento.\n",
    "\n",
    "O cálculo da média de idade é uma computação de uma informação nova com base em informações existentes. Essa geração de dados novos com base em antigos é uma definição de \"análise\".\n",
    "\n",
    "Ao longo do material os dois conceitos serão trabalhados.\n",
    "\n",
    "## Conhecimentos Prévios\n",
    "\n",
    "### Estatística\n",
    "Apesar de lidarmos com elementos da Estatística como média, mediana, desvio padrão e etc, esse material não oferece explicações sobre o aspecto teórico dessas entidades. Em resumo, você aprenderá _como_ calcular uma mediana usando Python, mas não aprenderá muito sobre o que _é_ uma mediana ou o que ela _significa_. Uma boa forma de aprender ou relembrar desses conceitos é através das aulas gratuitas da [UNIVESP](https://www.youtube.com/watch?v=0EySnmt_d_0)\n",
    "\n",
    "### Python\n",
    "Este material bem como os outros materiais dessa série assume que você possui um conhecimento básico de programação em Python. O objetivo desses materiais é de mostrar aplicações interdisciplinares da programação com base em situações reais. Caso você não possua nenhum conhecimento de programação, existem algumas boas fontes para você aprender:\n",
    "\n",
    "- [Python Para Zumbis](https://www.youtube.com/playlist?list=PLUukMN0DTKCtbzhbYe2jdF4cr8MOWClXc) - Vídeo aulas em Português sobre Python. Curso completo\n",
    "- [Pense em Python](https://penseallen.github.io/PensePython2e/), tradução em português do excelente [Think Python](http://greenteapress.com/thinkpython2/html/index.html)\n",
    "- [Automate the Boring Stuff With Python](https://automatetheboringstuff.com/) - Livro em inglês gratuito\n",
    "\n",
    "## Jupyter\n",
    "\n",
    "Todo esse material é escrito em [Jupyter](https://jupyterlab.readthedocs.io/en/stable/getting_started/installation.html), uma plataforma de programação interativa. Isso significa que você pode editar e rodar o código de dentro do navegador. Por exemplo:\n"
   ]
  },
  {
   "cell_type": "code",
   "execution_count": 1,
   "metadata": {},
   "outputs": [
    {
     "name": "stdout",
     "output_type": "stream",
     "text": [
      "O dobro de 0 é 0\n",
      "O dobro de 1 é 2\n",
      "O dobro de 2 é 4\n",
      "O dobro de 3 é 6\n",
      "O dobro de 4 é 8\n",
      "O dobro de 5 é 10\n",
      "O dobro de 6 é 12\n",
      "O dobro de 7 é 14\n",
      "O dobro de 8 é 16\n",
      "O dobro de 9 é 18\n"
     ]
    }
   ],
   "source": [
    "for i in range(10):\n",
    "    print(f\"O dobro de {i} é {2*i}\")"
   ]
  },
  {
   "cell_type": "markdown",
   "metadata": {},
   "source": [
    "Todas as células como a de cima são executáveis. Você pode editar o código, apertar CTRL+Enter e ele será executado. Tente, por exemplo, trocar a instrução `range(10)` por `range(20)` e aperte CTRL+Enter\n",
    "\n",
    "Todos os códigos apresentados são executáveis também nas suas máquinas, basta que você tenha Python instalado.\n",
    "\n",
    "Se você quiser guardar o código que produzir aqui dentro do material, faça o download do seu arquivo atual no menu \"File > Download as\". De lá você poderá salvar seu trabalho num arquivo `.py` ou num arquivo de notebook Jupyter."
   ]
  }
 ],
 "metadata": {
  "kernelspec": {
   "display_name": "Python 3",
   "language": "python",
   "name": "python3"
  },
  "language_info": {
   "codemirror_mode": {
    "name": "ipython",
    "version": 3
   },
   "file_extension": ".py",
   "mimetype": "text/x-python",
   "name": "python",
   "nbconvert_exporter": "python",
   "pygments_lexer": "ipython3",
   "version": "3.7.3"
  }
 },
 "nbformat": 4,
 "nbformat_minor": 2
}
