{
 "cells": [
  {
   "cell_type": "markdown",
   "metadata": {},
   "source": [
    "# Analisando Dados Simples\n",
    "\n",
    "Nesse módulo iremos iniciar a análise de dados em Python. No momento, vamos assumir que os dados já se encontram carregados em alguma lista ou dicionário. Formas de carregar esses dados aparecerão nos próximos módulos.\n",
    "\n",
    "## Máximos, Mínimos e Média\n",
    "\n",
    "No nosso primeiro exemplo, vamos lidar com o número de refeições servidas nos restaurantes do campus principal da UNICAMP entre 2009 e 2018. Esses dados estão disponíveis na página 249 do [Anuário Estatístico da UNICAMP](https://www.aeplan.unicamp.br/anuario/2019/anuario2019.pdf)"
   ]
  },
  {
   "cell_type": "code",
   "execution_count": 1,
   "metadata": {},
   "outputs": [],
   "source": [
    "meals = [1854100, 1854855, 1942484, 1961558, 2062858,\n",
    "         2070967, 2250395, 2478171, 2636224, 2444550]"
   ]
  },
  {
   "cell_type": "markdown",
   "metadata": {},
   "source": [
    "Podemos determinar o máximo de uma lista de números usando a função embutida `max()`:"
   ]
  },
  {
   "cell_type": "code",
   "execution_count": 5,
   "metadata": {},
   "outputs": [
    {
     "data": {
      "text/plain": [
       "2636224"
      ]
     },
     "execution_count": 5,
     "metadata": {},
     "output_type": "execute_result"
    }
   ],
   "source": [
    "max(meals)"
   ]
  },
  {
   "cell_type": "markdown",
   "metadata": {},
   "source": [
    "Com isso descobrimos que no ano em que mais refeições foram servidas, serviram 2.636.224 refeições."
   ]
  },
  {
   "cell_type": "markdown",
   "metadata": {},
   "source": [
    "O mínimo de uma lista de números também pode ser obtida com uma função nativa do Python, a função `min()`:"
   ]
  },
  {
   "cell_type": "code",
   "execution_count": 6,
   "metadata": {},
   "outputs": [
    {
     "data": {
      "text/plain": [
       "1854100"
      ]
     },
     "execution_count": 6,
     "metadata": {},
     "output_type": "execute_result"
    }
   ],
   "source": [
    "min(meals)"
   ]
  },
  {
   "cell_type": "markdown",
   "metadata": {},
   "source": [
    "O que mostra que no ano com menor número de refeições, serviram 1.854.100 refeições."
   ]
  },
  {
   "cell_type": "markdown",
   "metadata": {},
   "source": [
    "Podemos também somar os elementos de uma lista com `sum()`:"
   ]
  },
  {
   "cell_type": "code",
   "execution_count": 15,
   "metadata": {},
   "outputs": [
    {
     "data": {
      "text/plain": [
       "21556162"
      ]
     },
     "execution_count": 15,
     "metadata": {},
     "output_type": "execute_result"
    }
   ],
   "source": [
    "sum(meals)"
   ]
  },
  {
   "cell_type": "markdown",
   "metadata": {},
   "source": [
    "Portanto, de 2009 a 2018, foram servidas 21.556.162 refeições"
   ]
  },
  {
   "cell_type": "markdown",
   "metadata": {},
   "source": [
    "### Média e o módulo `statistics`"
   ]
  },
  {
   "cell_type": "markdown",
   "metadata": {},
   "source": [
    "Desde a versão 3.4, Python inclui o módulo `statistics`, que contém uma série de funções úteis para análises estatísticas. Você pode ver a referência oficial dele [aqui](https://docs.python.org/pt-br/3.7/library/statistics.html)"
   ]
  },
  {
   "cell_type": "markdown",
   "metadata": {},
   "source": [
    "> Como você pode ter notado, algumas partes da documentação oficial do Python estão em Português e outras em Inglês. Existe um grupo de voluntários que colabora com essa tradução! Caso você queira, pode encontrar mais informações sobre como nos ajudar a traduzir [nesse post](https://rgth.co/blog/python-ptbr-como-traduzir)"
   ]
  },
  {
   "cell_type": "markdown",
   "metadata": {},
   "source": [
    "Para começar, vamos importar o módulo `statistics`:"
   ]
  },
  {
   "cell_type": "code",
   "execution_count": 16,
   "metadata": {},
   "outputs": [],
   "source": [
    "import statistics"
   ]
  },
  {
   "cell_type": "markdown",
   "metadata": {},
   "source": [
    "Se você abrir uma nova linha de código aqui no Jupyter - clicando no ícone \"+\" ali na barra ou apertando a tecla 'b', você pode agora digitar `statistics` seguido de um ponto e então apertar a tecla \"TAB\". O Jupyter depois de alguns segundos irá te mostrar sugestões de todas as funções contidas no módulo!\n",
    "\n",
    "Veja o exemplo:\n",
    "\n",
    "![exemplo](statistics.gif)"
   ]
  },
  {
   "cell_type": "markdown",
   "metadata": {},
   "source": [
    "No vídeo acima, selecionei a função `mean`. Você pode encontrar mais detalhes dessa função na [documentação oficial](https://docs.python.org/pt-br/3.7/library/statistics.html#statistics.mean). Ela retornará a média dos dados, ou seja, a soma de todos os dados dividido pela quantidade deles"
   ]
  },
  {
   "cell_type": "code",
   "execution_count": 17,
   "metadata": {},
   "outputs": [
    {
     "data": {
      "text/plain": [
       "2155616.2"
      ]
     },
     "execution_count": 17,
     "metadata": {},
     "output_type": "execute_result"
    }
   ],
   "source": [
    "statistics.mean(meals)"
   ]
  },
  {
   "cell_type": "markdown",
   "metadata": {},
   "source": [
    "Portanto, em média, os bandejões da UNICAMP servem 2.155.616,2 refeições por ano"
   ]
  },
  {
   "cell_type": "markdown",
   "metadata": {},
   "source": [
    "Nós também poderíamos combinar as funções `sum` e `len` para calcular a média de forma mais manual. Como já vimos, `sum` retorna a soma de todos os itens numa lista. `len` retorna o tamanho da lista:"
   ]
  },
  {
   "cell_type": "code",
   "execution_count": 18,
   "metadata": {},
   "outputs": [
    {
     "data": {
      "text/plain": [
       "10"
      ]
     },
     "execution_count": 18,
     "metadata": {},
     "output_type": "execute_result"
    }
   ],
   "source": [
    "len(meals)"
   ]
  },
  {
   "cell_type": "markdown",
   "metadata": {},
   "source": [
    "Portanto uma forma simples de calcular a média é:"
   ]
  },
  {
   "cell_type": "code",
   "execution_count": 19,
   "metadata": {},
   "outputs": [
    {
     "data": {
      "text/plain": [
       "2155616.2"
      ]
     },
     "execution_count": 19,
     "metadata": {},
     "output_type": "execute_result"
    }
   ],
   "source": [
    "sum(meals)/len(meals)"
   ]
  },
  {
   "cell_type": "markdown",
   "metadata": {},
   "source": [
    "No entanto, o módulo `statistics` faz bem mais do que isso, como veremos adiante"
   ]
  },
  {
   "cell_type": "markdown",
   "metadata": {},
   "source": [
    "### Exercícios\n",
    "\n",
    "Considere a seguinte lista, que contém o número de alunos matriculados na UNICAMP de 2009 a 2018 (Fonte: p.31 do [Anuário Estatístico](https://www.aeplan.unicamp.br/anuario/2019/anuario2019.pdf)). Selecione a célula abaixo e aperte CTRL+Enter para que a variável seja criada para você"
   ]
  },
  {
   "cell_type": "code",
   "execution_count": 28,
   "metadata": {},
   "outputs": [],
   "source": [
    "students = [32772, 36801, 44519, 40850, 34533, 34616, 35656, 36598, 37494, 37927]"
   ]
  },
  {
   "cell_type": "markdown",
   "metadata": {},
   "source": [
    "1. Encontre o número de alunos no ano que tivemos mais alunos matriculados"
   ]
  },
  {
   "cell_type": "code",
   "execution_count": 25,
   "metadata": {},
   "outputs": [],
   "source": [
    "# Note que essa célula permite que você insira códigos aqui!\n",
    "# Basta editar e apertar ctrl+enter para executar"
   ]
  },
  {
   "cell_type": "markdown",
   "metadata": {},
   "source": [
    "2. Complete o código abaixo para imprimir a média do número de alunos:"
   ]
  },
  {
   "cell_type": "code",
   "execution_count": 23,
   "metadata": {},
   "outputs": [],
   "source": [
    "mean = ...\n",
    "print(f\"A média do número de alunos é {mean})"
   ]
  },
  {
   "cell_type": "markdown",
   "metadata": {},
   "source": [
    "3. O módulo `statistics` oferece também o método `median`, que retorna a mediana dos dados. Utilize dessa função para computar a mediana. Se você tiver um erro do tipo `ImportError`, basta adicionar `import statistics` ao seu código"
   ]
  },
  {
   "cell_type": "code",
   "execution_count": 29,
   "metadata": {},
   "outputs": [],
   "source": [
    "# Qual a mediana?"
   ]
  },
  {
   "cell_type": "markdown",
   "metadata": {},
   "source": [
    "4. Correlacione os dados de refeições com os de alunos. No caso, divida o número de refeições pelo número de alunos em cada ano específico.\n",
    "\n",
    "Existem várias formas de resolver esse exercício. Algumas delas estão no arquivo `03.1-Soluções.ipynb` Os valores finais são:\n",
    "\n",
    "```\n",
    "56.57573538386428\n",
    "50.40229885057471\n",
    "43.63269615220468\n",
    "48.01855569155447\n",
    "59.7358468711088\n",
    "59.82687196672059\n",
    "63.114062149427866\n",
    "67.71329034373463\n",
    "70.31055635568357\n",
    "64.45408284335697\n",
    "```"
   ]
  },
  {
   "cell_type": "markdown",
   "metadata": {},
   "source": [
    "## Filtragem de Dados\n",
    "\n",
    "Uma tarefa comum em processamento de dados é filtrar as informações que não fazem sentido para o nosso problema ou que simplesmente não importam para o que estamos analisando. Para começar essa seção, vamos gerar números inteiros aleatórios com a função `randint` do módulo `random`. [Documentação](https://docs.python.org/pt-br/3.7/library/random.html?highlight=random#random.randint)"
   ]
  }
 ],
 "metadata": {
  "kernelspec": {
   "display_name": "Python 3",
   "language": "python",
   "name": "python3"
  },
  "language_info": {
   "codemirror_mode": {
    "name": "ipython",
    "version": 3
   },
   "file_extension": ".py",
   "mimetype": "text/x-python",
   "name": "python",
   "nbconvert_exporter": "python",
   "pygments_lexer": "ipython3",
   "version": "3.7.3"
  }
 },
 "nbformat": 4,
 "nbformat_minor": 2
}
