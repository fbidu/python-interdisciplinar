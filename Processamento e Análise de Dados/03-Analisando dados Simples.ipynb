{
 "cells": [
  {
   "cell_type": "markdown",
   "metadata": {},
   "source": [
    "# Analisando Dados Simples\n",
    "\n",
    "Nesse módulo iremos iniciar a análise de dados em Python. No momento, vamos assumir que os dados já se encontram carregados em alguma lista ou dicionário. Formas de carregar esses dados aparecerão nos próximos módulos.\n",
    "\n",
    "## Máximos, Mínimos e Média\n",
    "\n",
    "No nosso primeiro exemplo, vamos lidar com o número de refeições servidas nos restaurantes do campus principal da UNICAMP entre 2009 e 2018. Esses dados estão disponíveis na página 249 do [Anuário Estatístico da UNICAMP](https://www.aeplan.unicamp.br/anuario/2019/anuario2019.pdf)"
   ]
  },
  {
   "cell_type": "code",
   "execution_count": 1,
   "metadata": {},
   "outputs": [],
   "source": [
    "meals = [1854100, 1854855, 1942484, 1961558, 2062858,\n",
    "         2070967, 2250395, 2478171, 2636224, 2444550]"
   ]
  },
  {
   "cell_type": "markdown",
   "metadata": {},
   "source": [
    "Podemos determinar o máximo de uma lista de números usando a função embutida `max()`:"
   ]
  },
  {
   "cell_type": "code",
   "execution_count": 5,
   "metadata": {},
   "outputs": [
    {
     "data": {
      "text/plain": [
       "2636224"
      ]
     },
     "execution_count": 5,
     "metadata": {},
     "output_type": "execute_result"
    }
   ],
   "source": [
    "max(meals)"
   ]
  },
  {
   "cell_type": "markdown",
   "metadata": {},
   "source": [
    "Com isso descobrimos que no ano em que mais refeições foram servidas, serviram 2.636.224 refeições."
   ]
  },
  {
   "cell_type": "markdown",
   "metadata": {},
   "source": [
    "O mínimo de uma lista de números também pode ser obtida com uma função nativa do Python, a função `min()`:"
   ]
  },
  {
   "cell_type": "code",
   "execution_count": 6,
   "metadata": {},
   "outputs": [
    {
     "data": {
      "text/plain": [
       "1854100"
      ]
     },
     "execution_count": 6,
     "metadata": {},
     "output_type": "execute_result"
    }
   ],
   "source": [
    "min(meals)"
   ]
  },
  {
   "cell_type": "markdown",
   "metadata": {},
   "source": [
    "O que mostra que no ano com menor número de refeições, serviram 1.854.100 refeições."
   ]
  },
  {
   "cell_type": "markdown",
   "metadata": {},
   "source": [
    "Podemos também somar os elementos de uma lista com `sum()`:"
   ]
  },
  {
   "cell_type": "code",
   "execution_count": 15,
   "metadata": {},
   "outputs": [
    {
     "data": {
      "text/plain": [
       "21556162"
      ]
     },
     "execution_count": 15,
     "metadata": {},
     "output_type": "execute_result"
    }
   ],
   "source": [
    "sum(meals)"
   ]
  },
  {
   "cell_type": "markdown",
   "metadata": {},
   "source": [
    "Portanto, de 2009 a 2018, foram servidas 21.556.162 refeições"
   ]
  },
  {
   "cell_type": "markdown",
   "metadata": {},
   "source": [
    "### Média e o módulo `statistics`"
   ]
  },
  {
   "cell_type": "markdown",
   "metadata": {},
   "source": [
    "Desde a versão 3.4, Python inclui o módulo `statistics`, que contém uma série de funções úteis para análises estatísticas. Você pode ver a referência oficial dele [aqui](https://docs.python.org/pt-br/3.7/library/statistics.html)"
   ]
  },
  {
   "cell_type": "markdown",
   "metadata": {},
   "source": [
    "> Como você pode ter notado, algumas partes da documentação oficial do Python estão em Português e outras em Inglês. Existe um grupo de voluntários que colabora com essa tradução! Caso você queira, pode encontrar mais informações sobre como nos ajudar a traduzir [nesse post](https://rgth.co/blog/python-ptbr-como-traduzir)"
   ]
  },
  {
   "cell_type": "markdown",
   "metadata": {},
   "source": [
    "Para começar, vamos importar o módulo `statistics`:"
   ]
  },
  {
   "cell_type": "code",
   "execution_count": 16,
   "metadata": {},
   "outputs": [],
   "source": [
    "import statistics"
   ]
  },
  {
   "cell_type": "markdown",
   "metadata": {},
   "source": [
    "Se você abrir uma nova linha de código aqui no Jupyter - clicando no ícone \"+\" ali na barra ou apertando a tecla 'b', você pode agora digitar `statistics` seguido de um ponto e então apertar a tecla \"TAB\". O Jupyter depois de alguns segundos irá te mostrar sugestões de todas as funções contidas no módulo!\n",
    "\n",
    "Veja o exemplo:\n",
    "\n",
    "![exemplo](statistics.gif)"
   ]
  },
  {
   "cell_type": "markdown",
   "metadata": {},
   "source": [
    "No vídeo acima, selecionei a função `mean`. Você pode encontrar mais detalhes dessa função na [documentação oficial](https://docs.python.org/pt-br/3.7/library/statistics.html#statistics.mean). Ela retornará a média dos dados, ou seja, a soma de todos os dados dividi"
   ]
  },
  {
   "cell_type": "code",
   "execution_count": 17,
   "metadata": {},
   "outputs": [
    {
     "data": {
      "text/plain": [
       "2155616.2"
      ]
     },
     "execution_count": 17,
     "metadata": {},
     "output_type": "execute_result"
    }
   ],
   "source": [
    "statistics.mean(meals)"
   ]
  }
 ],
 "metadata": {
  "kernelspec": {
   "display_name": "Python 3",
   "language": "python",
   "name": "python3"
  },
  "language_info": {
   "codemirror_mode": {
    "name": "ipython",
    "version": 3
   },
   "file_extension": ".py",
   "mimetype": "text/x-python",
   "name": "python",
   "nbconvert_exporter": "python",
   "pygments_lexer": "ipython3",
   "version": "3.7.3"
  }
 },
 "nbformat": 4,
 "nbformat_minor": 2
}
