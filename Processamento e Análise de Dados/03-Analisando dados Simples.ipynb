{
 "cells": [
  {
   "cell_type": "markdown",
   "metadata": {},
   "source": [
    "# Analisando Dados Simples\n",
    "\n",
    "Nesse módulo iremos iniciar a análise de dados em Python. No momento, vamos assumir que os dados já se encontram carregados em alguma lista ou dicionário. Formas de carregar esses dados aparecerão nos próximos módulos."
   ]
  },
  {
   "cell_type": "markdown",
   "metadata": {
    "toc": true
   },
   "source": [
    "<h1>Conteúdo<span class=\"tocSkip\"></span></h1>\n",
    "<div class=\"toc\"><ul class=\"toc-item\"><li><span><a href=\"#Máximos,-Mínimos-e-Média\" data-toc-modified-id=\"Máximos,-Mínimos-e-Média-1\"><span class=\"toc-item-num\">1&nbsp;&nbsp;</span>Máximos, Mínimos e Média</a></span><ul class=\"toc-item\"><li><span><a href=\"#Média-e-o-módulo-statistics\" data-toc-modified-id=\"Média-e-o-módulo-statistics-1.1\"><span class=\"toc-item-num\">1.1&nbsp;&nbsp;</span>Média e o módulo <code>statistics</code></a></span></li><li><span><a href=\"#Exercícios\" data-toc-modified-id=\"Exercícios-1.2\"><span class=\"toc-item-num\">1.2&nbsp;&nbsp;</span>Exercícios</a></span></li></ul></li><li><span><a href=\"#Filtragem-de-Dados\" data-toc-modified-id=\"Filtragem-de-Dados-2\"><span class=\"toc-item-num\">2&nbsp;&nbsp;</span>Filtragem de Dados</a></span><ul class=\"toc-item\"><li><span><a href=\"#Criando-uma-Lista-Aleatória\" data-toc-modified-id=\"Criando-uma-Lista-Aleatória-2.1\"><span class=\"toc-item-num\">2.1&nbsp;&nbsp;</span>Criando uma Lista Aleatória</a></span></li><li><span><a href=\"#Filtrando-Listas\" data-toc-modified-id=\"Filtrando-Listas-2.2\"><span class=\"toc-item-num\">2.2&nbsp;&nbsp;</span>Filtrando Listas</a></span></li><li><span><a href=\"#Filtrando-Dicionários\" data-toc-modified-id=\"Filtrando-Dicionários-2.3\"><span class=\"toc-item-num\">2.3&nbsp;&nbsp;</span>Filtrando Dicionários</a></span><ul class=\"toc-item\"><li><span><a href=\"#Qual-o-nome-das-pessoas-nascidas-depois-de-1950?\" data-toc-modified-id=\"Qual-o-nome-das-pessoas-nascidas-depois-de-1950?-2.3.1\"><span class=\"toc-item-num\">2.3.1&nbsp;&nbsp;</span>Qual o nome das pessoas nascidas depois de 1950?</a></span></li></ul></li></ul></li></ul></div>"
   ]
  },
  {
   "cell_type": "markdown",
   "metadata": {},
   "source": [
    "## Máximos, Mínimos e Média\n",
    "\n",
    "No nosso primeiro exemplo, vamos lidar com o número de refeições servidas nos restaurantes do campus principal da UNICAMP entre 2009 e 2018. Esses dados estão disponíveis na página 249 do [Anuário Estatístico da UNICAMP](https://www.aeplan.unicamp.br/anuario/2019/anuario2019.pdf)"
   ]
  },
  {
   "cell_type": "code",
   "execution_count": 1,
   "metadata": {},
   "outputs": [],
   "source": [
    "meals = [1854100, 1854855, 1942484, 1961558, 2062858,\n",
    "         2070967, 2250395, 2478171, 2636224, 2444550]"
   ]
  },
  {
   "cell_type": "markdown",
   "metadata": {},
   "source": [
    "Podemos determinar o máximo de uma lista de números usando a função embutida `max()`:"
   ]
  },
  {
   "cell_type": "code",
   "execution_count": 5,
   "metadata": {},
   "outputs": [
    {
     "data": {
      "text/plain": [
       "2636224"
      ]
     },
     "execution_count": 5,
     "metadata": {},
     "output_type": "execute_result"
    }
   ],
   "source": [
    "max(meals)"
   ]
  },
  {
   "cell_type": "markdown",
   "metadata": {},
   "source": [
    "Com isso descobrimos que no ano em que mais refeições foram servidas, serviram 2.636.224 refeições."
   ]
  },
  {
   "cell_type": "markdown",
   "metadata": {},
   "source": [
    "O mínimo de uma lista de números também pode ser obtida com uma função nativa do Python, a função `min()`:"
   ]
  },
  {
   "cell_type": "code",
   "execution_count": 6,
   "metadata": {},
   "outputs": [
    {
     "data": {
      "text/plain": [
       "1854100"
      ]
     },
     "execution_count": 6,
     "metadata": {},
     "output_type": "execute_result"
    }
   ],
   "source": [
    "min(meals)"
   ]
  },
  {
   "cell_type": "markdown",
   "metadata": {},
   "source": [
    "O que mostra que no ano com menor número de refeições, serviram 1.854.100 refeições."
   ]
  },
  {
   "cell_type": "markdown",
   "metadata": {},
   "source": [
    "Podemos também somar os elementos de uma lista com `sum()`:"
   ]
  },
  {
   "cell_type": "code",
   "execution_count": 15,
   "metadata": {},
   "outputs": [
    {
     "data": {
      "text/plain": [
       "21556162"
      ]
     },
     "execution_count": 15,
     "metadata": {},
     "output_type": "execute_result"
    }
   ],
   "source": [
    "sum(meals)"
   ]
  },
  {
   "cell_type": "markdown",
   "metadata": {},
   "source": [
    "Portanto, de 2009 a 2018, foram servidas 21.556.162 refeições"
   ]
  },
  {
   "cell_type": "markdown",
   "metadata": {},
   "source": [
    "### Média e o módulo `statistics`"
   ]
  },
  {
   "cell_type": "markdown",
   "metadata": {},
   "source": [
    "Desde a versão 3.4, Python inclui o módulo `statistics`, que contém uma série de funções úteis para análises estatísticas. Você pode ver a referência oficial dele [aqui](https://docs.python.org/pt-br/3.7/library/statistics.html)"
   ]
  },
  {
   "cell_type": "markdown",
   "metadata": {},
   "source": [
    "> Como você pode ter notado, algumas partes da documentação oficial do Python estão em Português e outras em Inglês. Existe um grupo de voluntários que colabora com essa tradução! Caso você queira, pode encontrar mais informações sobre como nos ajudar a traduzir [nesse post](https://rgth.co/blog/python-ptbr-como-traduzir)"
   ]
  },
  {
   "cell_type": "markdown",
   "metadata": {},
   "source": [
    "Para começar, vamos importar o módulo `statistics`:"
   ]
  },
  {
   "cell_type": "code",
   "execution_count": 16,
   "metadata": {},
   "outputs": [],
   "source": [
    "import statistics"
   ]
  },
  {
   "cell_type": "markdown",
   "metadata": {},
   "source": [
    "Se você abrir uma nova linha de código aqui no Jupyter - clicando no ícone \"+\" ali na barra ou apertando a tecla 'b', você pode agora digitar `statistics` seguido de um ponto e então apertar a tecla \"TAB\". O Jupyter depois de alguns segundos irá te mostrar sugestões de todas as funções contidas no módulo!\n",
    "\n",
    "Veja o exemplo:\n",
    "\n",
    "![exemplo](statistics.gif)"
   ]
  },
  {
   "cell_type": "markdown",
   "metadata": {},
   "source": [
    "No vídeo acima, selecionei a função `mean`. Você pode encontrar mais detalhes dessa função na [documentação oficial](https://docs.python.org/pt-br/3.7/library/statistics.html#statistics.mean). Ela retornará a média dos dados, ou seja, a soma de todos os dados dividido pela quantidade deles"
   ]
  },
  {
   "cell_type": "code",
   "execution_count": 17,
   "metadata": {},
   "outputs": [
    {
     "data": {
      "text/plain": [
       "2155616.2"
      ]
     },
     "execution_count": 17,
     "metadata": {},
     "output_type": "execute_result"
    }
   ],
   "source": [
    "statistics.mean(meals)"
   ]
  },
  {
   "cell_type": "markdown",
   "metadata": {},
   "source": [
    "Portanto, em média, os bandejões da UNICAMP servem 2.155.616,2 refeições por ano"
   ]
  },
  {
   "cell_type": "markdown",
   "metadata": {},
   "source": [
    "Nós também poderíamos combinar as funções `sum` e `len` para calcular a média de forma mais manual. Como já vimos, `sum` retorna a soma de todos os itens numa lista. `len` retorna o tamanho da lista:"
   ]
  },
  {
   "cell_type": "code",
   "execution_count": 18,
   "metadata": {},
   "outputs": [
    {
     "data": {
      "text/plain": [
       "10"
      ]
     },
     "execution_count": 18,
     "metadata": {},
     "output_type": "execute_result"
    }
   ],
   "source": [
    "len(meals)"
   ]
  },
  {
   "cell_type": "markdown",
   "metadata": {},
   "source": [
    "Portanto uma forma simples de calcular a média é:"
   ]
  },
  {
   "cell_type": "code",
   "execution_count": 19,
   "metadata": {},
   "outputs": [
    {
     "data": {
      "text/plain": [
       "2155616.2"
      ]
     },
     "execution_count": 19,
     "metadata": {},
     "output_type": "execute_result"
    }
   ],
   "source": [
    "sum(meals)/len(meals)"
   ]
  },
  {
   "cell_type": "markdown",
   "metadata": {},
   "source": [
    "No entanto, o módulo `statistics` faz bem mais do que isso, como veremos adiante"
   ]
  },
  {
   "cell_type": "markdown",
   "metadata": {},
   "source": [
    "### Exercícios\n",
    "\n",
    "Considere a seguinte lista, que contém o número de alunos matriculados na UNICAMP de 2009 a 2018 (Fonte: p.31 do [Anuário Estatístico](https://www.aeplan.unicamp.br/anuario/2019/anuario2019.pdf)).\n",
    "\n",
    "**Selecione a célula abaixo e aperte CTRL+Enter para que a variável seja criada para você**"
   ]
  },
  {
   "cell_type": "code",
   "execution_count": 16,
   "metadata": {},
   "outputs": [],
   "source": [
    "students = [32772, 36801, 44519, 40850, 34533, 34616, 35656, 36598, 37494, 37927]"
   ]
  },
  {
   "cell_type": "markdown",
   "metadata": {},
   "source": [
    "1. Encontre o número de alunos no ano que tivemos mais alunos matriculados"
   ]
  },
  {
   "cell_type": "code",
   "execution_count": 17,
   "metadata": {},
   "outputs": [],
   "source": [
    "# Note que essa célula permite que você insira códigos aqui!\n",
    "# Basta editar e apertar ctrl+enter para executar"
   ]
  },
  {
   "cell_type": "markdown",
   "metadata": {},
   "source": [
    "2. Complete o código abaixo para imprimir a média do número de alunos:"
   ]
  },
  {
   "cell_type": "code",
   "execution_count": null,
   "metadata": {
    "collapsed": true
   },
   "outputs": [],
   "source": [
    "mean = ...\n",
    "print(f\"A média do número de alunos é {mean})"
   ]
  },
  {
   "cell_type": "markdown",
   "metadata": {},
   "source": [
    "3. O módulo `statistics` oferece também o método `median`, que retorna a mediana dos dados. Utilize dessa função para computar a mediana. Se você tiver um erro do tipo `ImportError`, basta adicionar `import statistics` ao seu código"
   ]
  },
  {
   "cell_type": "code",
   "execution_count": 29,
   "metadata": {},
   "outputs": [],
   "source": [
    "# Qual a mediana?"
   ]
  },
  {
   "cell_type": "markdown",
   "metadata": {},
   "source": [
    "4. Correlacione os dados de refeições com os de alunos. No caso, **divida o número de refeições pelo número de alunos em cada ano específico**.\n",
    "\n",
    "Existem várias formas de resolver esse exercício. Algumas delas estão no arquivo `03.1-Soluções.ipynb` Os valores finais são:\n",
    "\n",
    "```\n",
    "56.57573538386428\n",
    "50.40229885057471\n",
    "43.63269615220468\n",
    "48.01855569155447\n",
    "59.7358468711088\n",
    "59.82687196672059\n",
    "63.114062149427866\n",
    "67.71329034373463\n",
    "70.31055635568357\n",
    "64.45408284335697\n",
    "```"
   ]
  },
  {
   "cell_type": "markdown",
   "metadata": {},
   "source": [
    "## Filtragem de Dados\n",
    "\n",
    "Uma tarefa comum em processamento de dados é filtrar as informações que não fazem sentido para o nosso problema ou que simplesmente não importam para o que estamos analisando. Para começar essa seção, vamos gerar números inteiros aleatórios com a função `randint` do módulo `random`. [Documentação](https://docs.python.org/pt-br/3.7/library/random.html?highlight=random#random.randint)"
   ]
  },
  {
   "cell_type": "code",
   "execution_count": 15,
   "metadata": {},
   "outputs": [
    {
     "data": {
      "text/plain": [
       "25"
      ]
     },
     "execution_count": 15,
     "metadata": {},
     "output_type": "execute_result"
    }
   ],
   "source": [
    "from random import randint\n",
    "\n",
    "randint(1, 100)"
   ]
  },
  {
   "cell_type": "markdown",
   "metadata": {},
   "source": [
    "A função `randint(a, b)` irá sortear um número aleatório x, `a <= x <= b`. Se você clicar na célula acima e apertar `CTRL+Enter` para reexecutá-la, você verá o número mudando. Tente!"
   ]
  },
  {
   "cell_type": "markdown",
   "metadata": {},
   "source": [
    "### Criando uma Lista Aleatória"
   ]
  },
  {
   "cell_type": "markdown",
   "metadata": {},
   "source": [
    "Para começar, vamos criar uma lista com 100 números sorteados entre -200 e 200. Existem duas formas principais de criar essa lista - loop `for` e _list comprehensions_.\n",
    "\n",
    "Vamos começar com o loop `for`:"
   ]
  },
  {
   "cell_type": "code",
   "execution_count": 19,
   "metadata": {},
   "outputs": [],
   "source": [
    "numbers = []\n",
    "\n",
    "for _ in range(100):\n",
    "    n = randint(-200, 200)\n",
    "    numbers.append(n)"
   ]
  },
  {
   "cell_type": "code",
   "execution_count": 20,
   "metadata": {},
   "outputs": [
    {
     "name": "stdout",
     "output_type": "stream",
     "text": [
      "[88, -27, -199, -59, 82, -88, -40, 107, -97, 132, -119, 65, -91, 123, 97, -118, -123, -145, -42, -177, 37, -74, -141, -80, -95, 111, 14, 74, -158, -154, 154, 78, 40, -17, -139, -127, 140, -199, -91, -148, 164, 58, -95, 175, 56, 161, 47, -142, 176, 169, -199, 200, -118, -142, 83, -13, -62, -11, 138, 60, -171, 41, -138, -148, 23, 110, -164, 85, -136, -173, -6, -91, 61, -172, 88, -56, -111, 53, -97, 199, 157, 33, 154, -80, 153, -116, 102, 27, -1, 199, -31, 109, -182, -34, -82, 197, -135, 118, -18, 71]\n"
     ]
    }
   ],
   "source": [
    "print(numbers)"
   ]
  },
  {
   "cell_type": "markdown",
   "metadata": {},
   "source": [
    "Usando uma _list comprehension_ , podemos criar a lista de forma mais direta, \"embutindo\" o loop `for` dentro da definição da lista:"
   ]
  },
  {
   "cell_type": "code",
   "execution_count": 22,
   "metadata": {},
   "outputs": [
    {
     "name": "stdout",
     "output_type": "stream",
     "text": [
      "[163, 140, 110, 170, 67, 186, 163, -5, -103, -186, -111, 122, 84, -98, -170, -51, -28, 74, -136, 174, 144, -15, -47, -157, -48, -179, -41, -124, -88, 146, 4, -19, 29, 36, -63, 178, -195, 49, 160, 186, 129, -99, -121, 152, -1, -64, -35, -91, 57, 55, 81, -166, -11, 192, 119, -84, 198, 82, 55, 86, 158, 25, -55, 18, -42, 176, -33, 169, 33, -62, 109, -169, 110, 79, -164, -91, 199, 98, 114, -160, -138, 104, 98, -126, -155, 94, -64, 166, 111, 97, -15, 142, -70, 87, -93, 109, -171, -118, 172, -33]\n"
     ]
    }
   ],
   "source": [
    "numbers = [randint(-200, 200) for _ in range(100)]\n",
    "\n",
    "print(numbers)"
   ]
  },
  {
   "cell_type": "markdown",
   "metadata": {},
   "source": [
    "### Filtrando Listas\n",
    "\n",
    "Suponha que o nosso problema agora seja pegar apenas os números positivos em uma lista. Mais uma vez, podemos fazer isso usando de loop `for` ou de _list comprehensions_.\n",
    "\n",
    "Usando de _list comprehensions_ temos algo assim:"
   ]
  },
  {
   "cell_type": "code",
   "execution_count": 24,
   "metadata": {},
   "outputs": [
    {
     "name": "stdout",
     "output_type": "stream",
     "text": [
      "[163, 140, 110, 170, 67, 186, 163, 122, 84, 74, 174, 144, 146, 4, 29, 36, 178, 49, 160, 186, 129, 152, 57, 55, 81, 192, 119, 198, 82, 55, 86, 158, 25, 18, 176, 169, 33, 109, 110, 79, 199, 98, 114, 104, 98, 94, 166, 111, 97, 142, 87, 109, 172]\n"
     ]
    }
   ],
   "source": [
    "positive_numbers = [n for n in numbers if n > 0]\n",
    "print(positive_numbers)"
   ]
  },
  {
   "cell_type": "markdown",
   "metadata": {},
   "source": [
    "Note como a estrutura de `for` e `if` ficou dentro da definição. Como você escreveria esse exemplo usado de um loop for explícito? Caso você esteja com dúvidas sobre esses dois conceitos, pode ser um exercício interessante!"
   ]
  },
  {
   "cell_type": "markdown",
   "metadata": {},
   "source": [
    "### Filtrando Dicionários"
   ]
  },
  {
   "cell_type": "markdown",
   "metadata": {},
   "source": [
    "Listas são muito úteis para armazenar sequências de informação mas elas são só uma das muitas estruturas de dados nativas do Python. Dicionários, por exemplo, permitem que a gente lide com informações bem mais complexas. Para mais informações, veja o capítulo 2, de Revisão de Dicionários\n",
    "\n",
    "Considere a seguinte lista de dicionários contendo informações sobre algumas pessoas da televisão brasileira:"
   ]
  },
  {
   "cell_type": "code",
   "execution_count": 4,
   "metadata": {},
   "outputs": [],
   "source": [
    "tv = [\n",
    "    {\n",
    "        \"nome\": \"Faustão\",\n",
    "        \"nascimento\": 1950,\n",
    "        \"estado\": \"SP\"\n",
    "    },\n",
    "    {\n",
    "        \"nome\": \"Sílvio Santos\",\n",
    "        \"nascimento\": 1930,\n",
    "        \"estado\": \"RJ\"\n",
    "    },\n",
    "    {\n",
    "        \"nome\": \"Ana Maria Braga\",\n",
    "        \"nascimento\": 1949,\n",
    "        \"estado\": \"SP\"\n",
    "    },\n",
    "    {\n",
    "        \"nome\": \"Maísa Silva\",\n",
    "        \"nascimento\": 2002,\n",
    "        \"estado\": \"SP\"\n",
    "    },\n",
    "    {\n",
    "        \"nome\": \"Renato Aragão\",\n",
    "        \"nascimento\": 1935,\n",
    "        \"estado\": \"CE\"\n",
    "    },\n",
    "    {\n",
    "        \"nome\": \"Celso Portiolli\",\n",
    "        \"nascimento\": 1967,\n",
    "        \"estado\": \"PR\"\n",
    "    },\n",
    "    {\n",
    "        \"nome\": \"Xuxa\",\n",
    "        \"nascimento\": 1963,\n",
    "        \"estado\": \"RS\"\n",
    "    }\n",
    "]"
   ]
  },
  {
   "cell_type": "markdown",
   "metadata": {},
   "source": [
    "Vamos responder três perguntas:\n",
    "\n",
    "1. Qual o nome das pessoas nascidas depois de 1950?\n",
    "2. Qual a média de idade dos apresentadores nascidos em SP?\n",
    "3. Qual a média de idade dos apresentadores nascidos fora de SP?\n",
    "\n",
    "Se você quiser, pare a leitura do material e tente resolver esses três problemas! As respostas e o raciocínio desenvolvido estão logo em seguida"
   ]
  },
  {
   "cell_type": "markdown",
   "metadata": {},
   "source": [
    "**Se os códigos a seguir falharem com um erro do tipo `NameError: name 'tv' is not defined`, volte na célula que define a variável tv e aperte SHIFT+Enter**"
   ]
  },
  {
   "cell_type": "markdown",
   "metadata": {},
   "source": [
    "#### Qual o nome das pessoas nascidas depois de 1950?"
   ]
  },
  {
   "cell_type": "markdown",
   "metadata": {},
   "source": [
    "Vamos começar fazendo a filtragem de maneira mais explícita, criando uma nova lista e filtrando usando um loop for:"
   ]
  },
  {
   "cell_type": "code",
   "execution_count": 9,
   "metadata": {},
   "outputs": [
    {
     "name": "stdout",
     "output_type": "stream",
     "text": [
      "['Maísa Silva', 'Celso Portiolli', 'Xuxa']\n"
     ]
    }
   ],
   "source": [
    "after_1950 = []\n",
    "\n",
    "for person in tv:\n",
    "    if person[\"nascimento\"] > 1950:\n",
    "        after_1950.append(person[\"nome\"])\n",
    "        \n",
    "print(after_1950)"
   ]
  },
  {
   "cell_type": "markdown",
   "metadata": {},
   "source": [
    "Esse código possui 3 partes principais:\n",
    "\n",
    "1. Um loop que percorre todos os elemento na lista `tv`, linha 3\n",
    "2. Na linha 4, comparamos o campo `nascimento` de cada pessoa com o valor 1950\n",
    "3. Finalmente, na linha 5, adicionamos apenas o valor do campo nome na lista `after_1950`"
   ]
  },
  {
   "cell_type": "markdown",
   "metadata": {},
   "source": [
    "Como converter esse código para uma _list comprehension_? Vamos fazer parte a parte, com base nos três itens listados em cima:"
   ]
  },
  {
   "cell_type": "code",
   "execution_count": 11,
   "metadata": {},
   "outputs": [
    {
     "name": "stdout",
     "output_type": "stream",
     "text": [
      "[{'nome': 'Faustão', 'nascimento': 1950, 'estado': 'SP'}, {'nome': 'Sílvio Santos', 'nascimento': 1930, 'estado': 'RJ'}, {'nome': 'Ana Maria Braga', 'nascimento': 1949, 'estado': 'SP'}, {'nome': 'Maísa Silva', 'nascimento': 2002, 'estado': 'SP'}, {'nome': 'Renato Aragão', 'nascimento': 1935, 'estado': 'CE'}, {'nome': 'Celso Portiolli', 'nascimento': 1967, 'estado': 'PR'}, {'nome': 'Xuxa', 'nascimento': 1963, 'estado': 'RS'}]\n"
     ]
    }
   ],
   "source": [
    "# Primeiro percorremos toda a lista \"tv\"\n",
    "after_1950 = [person for person in tv]\n",
    "print(after_1950)"
   ]
  },
  {
   "cell_type": "markdown",
   "metadata": {},
   "source": [
    "Observe que esse código não fez filtragem nenhuma, não cortou nenhum campo, nada! Ele apenas copiou tudo o que estava numa lista para outra"
   ]
  },
  {
   "cell_type": "code",
   "execution_count": 12,
   "metadata": {},
   "outputs": [
    {
     "name": "stdout",
     "output_type": "stream",
     "text": [
      "[{'nome': 'Maísa Silva', 'nascimento': 2002, 'estado': 'SP'}, {'nome': 'Celso Portiolli', 'nascimento': 1967, 'estado': 'PR'}, {'nome': 'Xuxa', 'nascimento': 1963, 'estado': 'RS'}]\n"
     ]
    }
   ],
   "source": [
    "# Vamos refazer o código de cima adicionando a filtragem da linha 2:\n",
    "after_1950 = [person for person in tv if person[\"nascimento\"] > 1950]\n",
    "print(after_1950)"
   ]
  },
  {
   "cell_type": "markdown",
   "metadata": {},
   "source": [
    "Note que agora nós já temos uma filtragem!\n",
    "Finalmente, vamos modificar o código novamente para adicionar só o campo que queremos:"
   ]
  },
  {
   "cell_type": "code",
   "execution_count": 13,
   "metadata": {},
   "outputs": [
    {
     "name": "stdout",
     "output_type": "stream",
     "text": [
      "['Maísa Silva', 'Celso Portiolli', 'Xuxa']\n"
     ]
    }
   ],
   "source": [
    "# Agora, vamos tomar cuidado para adicionar apenas o campo \"nome\"\n",
    "after_1950 = [person[\"nome\"] for person in tv if person[\"nascimento\"] > 1950]\n",
    "print(after_1950)"
   ]
  },
  {
   "cell_type": "markdown",
   "metadata": {},
   "source": [
    "E pronto! Temos o resultado esperado."
   ]
  },
  {
   "cell_type": "markdown",
   "metadata": {},
   "source": [
    "As outras duas atividades ficam como exercício. Relembrando, elas são:\n",
    "\n",
    "1. Qual a média de idade dos apresentadores nascidos em SP?\n",
    "2. Qual a média de idade dos apresentadores nascidos fora de SP?\n",
    "\n",
    "Caso você tenha dificuldades, confira a resolução no arquivo `03.1-Soluções`\n",
    "\n",
    "Dicas:\n",
    "\n",
    "1. Considere o ano atual como sendo um valor fixo. Caso queira, você pode depois pesquisar como obter o ano atual em Python. As duas soluções estão no arquivo de soluções\n",
    "\n",
    "2. Caso você enrosque em alguma parte, leia a solução aos poucos, volte e tente continuar ao invés de ler tudo de uma vez. Isso pode ajudar você a resolver pelo menos uma parte do problema sem ler a resposta!"
   ]
  }
 ],
 "metadata": {
  "kernelspec": {
   "display_name": "Python 3",
   "language": "python",
   "name": "python3"
  },
  "language_info": {
   "codemirror_mode": {
    "name": "ipython",
    "version": 3
   },
   "file_extension": ".py",
   "mimetype": "text/x-python",
   "name": "python",
   "nbconvert_exporter": "python",
   "pygments_lexer": "ipython3",
   "version": "3.7.3"
  },
  "toc": {
   "base_numbering": 1,
   "nav_menu": {},
   "number_sections": true,
   "sideBar": true,
   "skip_h1_title": true,
   "title_cell": "Conteúdo",
   "title_sidebar": "Conteúdo",
   "toc_cell": true,
   "toc_position": {
    "height": "calc(100% - 180px)",
    "left": "10px",
    "top": "150px",
    "width": "289px"
   },
   "toc_section_display": true,
   "toc_window_display": true
  }
 },
 "nbformat": 4,
 "nbformat_minor": 2
}
