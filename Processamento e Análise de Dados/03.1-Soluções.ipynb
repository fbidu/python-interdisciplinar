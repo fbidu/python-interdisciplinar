{
 "cells": [
  {
   "cell_type": "markdown",
   "metadata": {},
   "source": [
    "# Soluções dos Exercícios"
   ]
  },
  {
   "cell_type": "markdown",
   "metadata": {},
   "source": [
    "Correlacionando o número de refeições servidas na UNICAMP com o número de alunos matriculados.\n",
    "\n",
    "Nesse exercício nós temos duas listas, `meals` e `students`. As duas contém dados começando em 2009 e terminando em 2018."
   ]
  },
  {
   "cell_type": "code",
   "execution_count": 1,
   "metadata": {},
   "outputs": [],
   "source": [
    "meals = [1854100, 1854855, 1942484, 1961558, 2062858,\n",
    "         2070967, 2250395, 2478171, 2636224, 2444550]\n",
    "\n",
    "students = [32772, 36801, 44519, 40850, 34533, 34616,\n",
    "            35656, 36598, 37494, 37927]"
   ]
  },
  {
   "cell_type": "markdown",
   "metadata": {},
   "source": [
    "Como as duas começam e terminam no mesmo ano, o primeiro elemento de cada uma delas se referencia ao ano de 2009, o segundo elemento ao ano de 2010 e assim por diante. Vamos calcular o valor que queremos apenas para o ano de 2009:"
   ]
  },
  {
   "cell_type": "code",
   "execution_count": 6,
   "metadata": {},
   "outputs": [
    {
     "name": "stdout",
     "output_type": "stream",
     "text": [
      "Em 2009 foram servidas 56.57573538386428 refeições por estudante\n"
     ]
    }
   ],
   "source": [
    "# O índice zero de \"meals\" contém as refeições servidas em 2009\n",
    "meals_2009 = meals[0]\n",
    "\n",
    "# O índice zero de \"students\" contém os estudantes matriculados em 2009\n",
    "students_2009 = students[0]\n",
    "\n",
    "# Podemos dividir meals por students em 2009 para chegar no valor que buscamos\n",
    "meals_per_student_2009 = meals_2009 / students_2009\n",
    "\n",
    "print(f\"Em 2009 foram servidas {meals_per_student_2009} refeições por estudante\")"
   ]
  },
  {
   "cell_type": "markdown",
   "metadata": {},
   "source": [
    "> Note que esse dado deve ser interpretado com cautela, uma vez que o número de refeições servidas _apenas para estudantes_ é menor do que o valor total de refeições servidas. Mais detalhes na página 249 do [Anuário Estatístico](https://www.aeplan.unicamp.br/anuario/2019/anuario2019.pdf)"
   ]
  },
  {
   "cell_type": "markdown",
   "metadata": {},
   "source": [
    "Agora podemos calcular o mesmo valor para todos os anos usando de um loop `for`. Uma das formas mais diretas de fazer isso é passeando entre os índices das listas:"
   ]
  },
  {
   "cell_type": "code",
   "execution_count": 7,
   "metadata": {},
   "outputs": [
    {
     "name": "stdout",
     "output_type": "stream",
     "text": [
      "56.57573538386428\n",
      "50.40229885057471\n",
      "43.63269615220468\n",
      "48.01855569155447\n",
      "59.7358468711088\n",
      "59.82687196672059\n",
      "63.114062149427866\n",
      "67.71329034373463\n",
      "70.31055635568357\n",
      "64.45408284335697\n"
     ]
    }
   ],
   "source": [
    "for i in range(len(meals)):\n",
    "    print(meals[i] / students[i])"
   ]
  },
  {
   "cell_type": "markdown",
   "metadata": {},
   "source": [
    "Esse código irá percorrer cada índice possível e então irá acessar o i-ésimo elemento de cada lista"
   ]
  },
  {
   "cell_type": "markdown",
   "metadata": {},
   "source": [
    "Outra forma de percorrer essas listas seria utilizando da função `enumerate`, dentro do `for`:"
   ]
  },
  {
   "cell_type": "code",
   "execution_count": 8,
   "metadata": {},
   "outputs": [
    {
     "name": "stdout",
     "output_type": "stream",
     "text": [
      "56.57573538386428\n",
      "50.40229885057471\n",
      "43.63269615220468\n",
      "48.01855569155447\n",
      "59.7358468711088\n",
      "59.82687196672059\n",
      "63.114062149427866\n",
      "67.71329034373463\n",
      "70.31055635568357\n",
      "64.45408284335697\n"
     ]
    }
   ],
   "source": [
    "for i, student_count in enumerate(students):\n",
    "    print(meals[i] / student_count)"
   ]
  },
  {
   "cell_type": "markdown",
   "metadata": {},
   "source": [
    "A função `enumerate` nos retorna dois valores: o índice e o valor atual na lista, para cada elemento. Caso você nunca tenha visto essa função, considere esse exemplo:"
   ]
  },
  {
   "cell_type": "code",
   "execution_count": 9,
   "metadata": {},
   "outputs": [
    {
     "name": "stdout",
     "output_type": "stream",
     "text": [
      "A letra de índice 0 é a letra a\n",
      "A letra de índice 1 é a letra b\n",
      "A letra de índice 2 é a letra c\n",
      "A letra de índice 3 é a letra d\n",
      "A letra de índice 4 é a letra e\n",
      "A letra de índice 5 é a letra f\n",
      "A letra de índice 6 é a letra g\n"
     ]
    }
   ],
   "source": [
    "letras = ['a', 'b', 'c', 'd', 'e', 'f', 'g']\n",
    "\n",
    "for idx, letra in enumerate(letras):\n",
    "    print(f\"A letra de índice {idx} é a letra {letra}\")"
   ]
  },
  {
   "cell_type": "markdown",
   "metadata": {},
   "source": [
    "Uma forma mais avançada é usar de uma _list comprehension_ para calcular os valores buscados. Veremos mais sobre list comprehension no próprio capítulo 3"
   ]
  },
  {
   "cell_type": "code",
   "execution_count": 12,
   "metadata": {},
   "outputs": [
    {
     "name": "stdout",
     "output_type": "stream",
     "text": [
      "[56.57573538386428, 50.40229885057471, 43.63269615220468, 48.01855569155447, 59.7358468711088, 59.82687196672059, 63.114062149427866, 67.71329034373463, 70.31055635568357, 64.45408284335697]\n"
     ]
    }
   ],
   "source": [
    "meals_per_student = [meals[i]/students[i] for i in range(len(meals))]\n",
    "print(meals_per_student)"
   ]
  },
  {
   "cell_type": "markdown",
   "metadata": {},
   "source": [
    "E finalmente uma outra forma de lidar com esse problema é através do método `zip` que irá \"cruzar\" os elementos das duas listas par-a-par:"
   ]
  },
  {
   "cell_type": "code",
   "execution_count": 13,
   "metadata": {},
   "outputs": [
    {
     "data": {
      "text/plain": [
       "[(1854100, 32772),\n",
       " (1854855, 36801),\n",
       " (1942484, 44519),\n",
       " (1961558, 40850),\n",
       " (2062858, 34533),\n",
       " (2070967, 34616),\n",
       " (2250395, 35656),\n",
       " (2478171, 36598),\n",
       " (2636224, 37494),\n",
       " (2444550, 37927)]"
      ]
     },
     "execution_count": 13,
     "metadata": {},
     "output_type": "execute_result"
    }
   ],
   "source": [
    "list(zip(meals, students))"
   ]
  },
  {
   "cell_type": "markdown",
   "metadata": {},
   "source": [
    "Note que o método `zip` nos retorna uma lista de pares, cada um contendo `(número_de_refeições, número_de_estudantes)`. Podemos utilizar dessa informação para simplificar o loop:"
   ]
  },
  {
   "cell_type": "code",
   "execution_count": 14,
   "metadata": {},
   "outputs": [
    {
     "name": "stdout",
     "output_type": "stream",
     "text": [
      "56.57573538386428\n",
      "50.40229885057471\n",
      "43.63269615220468\n",
      "48.01855569155447\n",
      "59.7358468711088\n",
      "59.82687196672059\n",
      "63.114062149427866\n",
      "67.71329034373463\n",
      "70.31055635568357\n",
      "64.45408284335697\n"
     ]
    }
   ],
   "source": [
    "for year_data in zip(meals, students):\n",
    "    print(year_data[0] / year_data[1])"
   ]
  },
  {
   "cell_type": "markdown",
   "metadata": {},
   "source": [
    "Isso foi possível pois cada elemento retornado por `zip` vai ter no índice 0 o número de refeições e no índice 1 o número de estudantes."
   ]
  },
  {
   "cell_type": "markdown",
   "metadata": {},
   "source": [
    "Brinque com os códigos oferecidos! Mude coisas e veja o que acontece. Por exemplo, qual seria a consequência de trocar `zip(meals, students)` por `zip(students, meals)`? Por que isso ocorre e como você precisaria modificar o código dentro do for para arrumar?"
   ]
  }
 ],
 "metadata": {
  "kernelspec": {
   "display_name": "Python 3",
   "language": "python",
   "name": "python3"
  },
  "language_info": {
   "codemirror_mode": {
    "name": "ipython",
    "version": 3
   },
   "file_extension": ".py",
   "mimetype": "text/x-python",
   "name": "python",
   "nbconvert_exporter": "python",
   "pygments_lexer": "ipython3",
   "version": "3.7.3"
  }
 },
 "nbformat": 4,
 "nbformat_minor": 2
}
