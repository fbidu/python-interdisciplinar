{
 "cells": [
  {
   "cell_type": "markdown",
   "metadata": {},
   "source": [
    "# Soluções dos Exercícios"
   ]
  },
  {
   "cell_type": "markdown",
   "metadata": {
    "toc": true
   },
   "source": [
    "<h1>Conteúdo<span class=\"tocSkip\"></span></h1>\n",
    "<div class=\"toc\"><ul class=\"toc-item\"><li><span><a href=\"#Soluções-dos-Exercícios\" data-toc-modified-id=\"Soluções-dos-Exercícios-1\"><span class=\"toc-item-num\">1&nbsp;&nbsp;</span>Soluções dos Exercícios</a></span><ul class=\"toc-item\"><li><span><a href=\"#Correlacionando-o-número-de-refeições-servidas-na-UNICAMP-com-o-número-de-alunos-matriculados.\" data-toc-modified-id=\"Correlacionando-o-número-de-refeições-servidas-na-UNICAMP-com-o-número-de-alunos-matriculados.-1.1\"><span class=\"toc-item-num\">1.1&nbsp;&nbsp;</span>Correlacionando o número de refeições servidas na UNICAMP com o número de alunos matriculados.</a></span></li><li><span><a href=\"#Média-de-Idade-dos-Apresentadores\" data-toc-modified-id=\"Média-de-Idade-dos-Apresentadores-1.2\"><span class=\"toc-item-num\">1.2&nbsp;&nbsp;</span>Média de Idade dos Apresentadores</a></span><ul class=\"toc-item\"><li><span><a href=\"#Qual-a-Média-de-Idade-dos-Apresentadores-Nascidos-em-SP?\" data-toc-modified-id=\"Qual-a-Média-de-Idade-dos-Apresentadores-Nascidos-em-SP?-1.2.1\"><span class=\"toc-item-num\">1.2.1&nbsp;&nbsp;</span>Qual a Média de Idade dos Apresentadores Nascidos em SP?</a></span><ul class=\"toc-item\"><li><span><a href=\"#Descobrindo-o-Ano-Atual\" data-toc-modified-id=\"Descobrindo-o-Ano-Atual-1.2.1.1\"><span class=\"toc-item-num\">1.2.1.1&nbsp;&nbsp;</span>Descobrindo o Ano Atual</a></span></li></ul></li><li><span><a href=\"#Qual-a-Média-de-Idade-dos-Apresentadores-Nascidos-Fora-de-SP?\" data-toc-modified-id=\"Qual-a-Média-de-Idade-dos-Apresentadores-Nascidos-Fora-de-SP?-1.2.2\"><span class=\"toc-item-num\">1.2.2&nbsp;&nbsp;</span>Qual a Média de Idade dos Apresentadores Nascidos Fora de SP?</a></span></li></ul></li></ul></li></ul></div>"
   ]
  },
  {
   "cell_type": "markdown",
   "metadata": {},
   "source": [
    "## Correlacionando o número de refeições servidas na UNICAMP com o número de alunos matriculados.\n",
    "\n",
    "Nesse exercício nós temos duas listas, `meals` e `students`. As duas contém dados começando em 2009 e terminando em 2018."
   ]
  },
  {
   "cell_type": "code",
   "execution_count": 1,
   "metadata": {},
   "outputs": [],
   "source": [
    "meals = [1854100, 1854855, 1942484, 1961558, 2062858,\n",
    "         2070967, 2250395, 2478171, 2636224, 2444550]\n",
    "\n",
    "students = [32772, 36801, 44519, 40850, 34533, 34616,\n",
    "            35656, 36598, 37494, 37927]"
   ]
  },
  {
   "cell_type": "markdown",
   "metadata": {},
   "source": [
    "Como as duas começam e terminam no mesmo ano, o primeiro elemento de cada uma delas se referencia ao ano de 2009, o segundo elemento ao ano de 2010 e assim por diante. Vamos calcular o valor que queremos apenas para o ano de 2009:"
   ]
  },
  {
   "cell_type": "code",
   "execution_count": 6,
   "metadata": {},
   "outputs": [
    {
     "name": "stdout",
     "output_type": "stream",
     "text": [
      "Em 2009 foram servidas 56.57573538386428 refeições por estudante\n"
     ]
    }
   ],
   "source": [
    "# O índice zero de \"meals\" contém as refeições servidas em 2009\n",
    "meals_2009 = meals[0]\n",
    "\n",
    "# O índice zero de \"students\" contém os estudantes matriculados em 2009\n",
    "students_2009 = students[0]\n",
    "\n",
    "# Podemos dividir meals por students em 2009 para chegar no valor que buscamos\n",
    "meals_per_student_2009 = meals_2009 / students_2009\n",
    "\n",
    "print(f\"Em 2009 foram servidas {meals_per_student_2009} refeições por estudante\")"
   ]
  },
  {
   "cell_type": "markdown",
   "metadata": {},
   "source": [
    "> Note que esse dado deve ser interpretado com cautela, uma vez que o número de refeições servidas _apenas para estudantes_ é menor do que o valor total de refeições servidas. Mais detalhes na página 249 do [Anuário Estatístico](https://www.aeplan.unicamp.br/anuario/2019/anuario2019.pdf)"
   ]
  },
  {
   "cell_type": "markdown",
   "metadata": {},
   "source": [
    "Agora podemos calcular o mesmo valor para todos os anos usando de um loop `for`. Uma das formas mais diretas de fazer isso é passeando entre os índices das listas:"
   ]
  },
  {
   "cell_type": "code",
   "execution_count": 7,
   "metadata": {},
   "outputs": [
    {
     "name": "stdout",
     "output_type": "stream",
     "text": [
      "56.57573538386428\n",
      "50.40229885057471\n",
      "43.63269615220468\n",
      "48.01855569155447\n",
      "59.7358468711088\n",
      "59.82687196672059\n",
      "63.114062149427866\n",
      "67.71329034373463\n",
      "70.31055635568357\n",
      "64.45408284335697\n"
     ]
    }
   ],
   "source": [
    "for i in range(len(meals)):\n",
    "    print(meals[i] / students[i])"
   ]
  },
  {
   "cell_type": "markdown",
   "metadata": {},
   "source": [
    "Esse código irá percorrer cada índice possível e então irá acessar o i-ésimo elemento de cada lista"
   ]
  },
  {
   "cell_type": "markdown",
   "metadata": {},
   "source": [
    "Outra forma de percorrer essas listas seria utilizando da função `enumerate`, dentro do `for`:"
   ]
  },
  {
   "cell_type": "code",
   "execution_count": 8,
   "metadata": {},
   "outputs": [
    {
     "name": "stdout",
     "output_type": "stream",
     "text": [
      "56.57573538386428\n",
      "50.40229885057471\n",
      "43.63269615220468\n",
      "48.01855569155447\n",
      "59.7358468711088\n",
      "59.82687196672059\n",
      "63.114062149427866\n",
      "67.71329034373463\n",
      "70.31055635568357\n",
      "64.45408284335697\n"
     ]
    }
   ],
   "source": [
    "for i, student_count in enumerate(students):\n",
    "    print(meals[i] / student_count)"
   ]
  },
  {
   "cell_type": "markdown",
   "metadata": {},
   "source": [
    "A função `enumerate` nos retorna dois valores: o índice e o valor atual na lista, para cada elemento. Caso você nunca tenha visto essa função, considere esse exemplo:"
   ]
  },
  {
   "cell_type": "code",
   "execution_count": 9,
   "metadata": {},
   "outputs": [
    {
     "name": "stdout",
     "output_type": "stream",
     "text": [
      "A letra de índice 0 é a letra a\n",
      "A letra de índice 1 é a letra b\n",
      "A letra de índice 2 é a letra c\n",
      "A letra de índice 3 é a letra d\n",
      "A letra de índice 4 é a letra e\n",
      "A letra de índice 5 é a letra f\n",
      "A letra de índice 6 é a letra g\n"
     ]
    }
   ],
   "source": [
    "letras = ['a', 'b', 'c', 'd', 'e', 'f', 'g']\n",
    "\n",
    "for idx, letra in enumerate(letras):\n",
    "    print(f\"A letra de índice {idx} é a letra {letra}\")"
   ]
  },
  {
   "cell_type": "markdown",
   "metadata": {},
   "source": [
    "Uma forma mais avançada é usar de uma _list comprehension_ para calcular os valores buscados. Veremos mais sobre list comprehension no próprio capítulo 3"
   ]
  },
  {
   "cell_type": "code",
   "execution_count": 12,
   "metadata": {},
   "outputs": [
    {
     "name": "stdout",
     "output_type": "stream",
     "text": [
      "[56.57573538386428, 50.40229885057471, 43.63269615220468, 48.01855569155447, 59.7358468711088, 59.82687196672059, 63.114062149427866, 67.71329034373463, 70.31055635568357, 64.45408284335697]\n"
     ]
    }
   ],
   "source": [
    "meals_per_student = [meals[i]/students[i] for i in range(len(meals))]\n",
    "print(meals_per_student)"
   ]
  },
  {
   "cell_type": "markdown",
   "metadata": {},
   "source": [
    "E finalmente uma outra forma de lidar com esse problema é através do método `zip` que irá \"cruzar\" os elementos das duas listas par-a-par:"
   ]
  },
  {
   "cell_type": "code",
   "execution_count": 13,
   "metadata": {},
   "outputs": [
    {
     "data": {
      "text/plain": [
       "[(1854100, 32772),\n",
       " (1854855, 36801),\n",
       " (1942484, 44519),\n",
       " (1961558, 40850),\n",
       " (2062858, 34533),\n",
       " (2070967, 34616),\n",
       " (2250395, 35656),\n",
       " (2478171, 36598),\n",
       " (2636224, 37494),\n",
       " (2444550, 37927)]"
      ]
     },
     "execution_count": 13,
     "metadata": {},
     "output_type": "execute_result"
    }
   ],
   "source": [
    "list(zip(meals, students))"
   ]
  },
  {
   "cell_type": "markdown",
   "metadata": {},
   "source": [
    "Note que o método `zip` nos retorna uma lista de pares, cada um contendo `(número_de_refeições, número_de_estudantes)`. Podemos utilizar dessa informação para simplificar o loop:"
   ]
  },
  {
   "cell_type": "code",
   "execution_count": 14,
   "metadata": {},
   "outputs": [
    {
     "name": "stdout",
     "output_type": "stream",
     "text": [
      "56.57573538386428\n",
      "50.40229885057471\n",
      "43.63269615220468\n",
      "48.01855569155447\n",
      "59.7358468711088\n",
      "59.82687196672059\n",
      "63.114062149427866\n",
      "67.71329034373463\n",
      "70.31055635568357\n",
      "64.45408284335697\n"
     ]
    }
   ],
   "source": [
    "for year_data in zip(meals, students):\n",
    "    print(year_data[0] / year_data[1])"
   ]
  },
  {
   "cell_type": "markdown",
   "metadata": {},
   "source": [
    "Isso foi possível pois cada elemento retornado por `zip` vai ter no índice 0 o número de refeições e no índice 1 o número de estudantes."
   ]
  },
  {
   "cell_type": "markdown",
   "metadata": {},
   "source": [
    "Brinque com os códigos oferecidos! Mude coisas e veja o que acontece. Por exemplo, qual seria a consequência de trocar `zip(meals, students)` por `zip(students, meals)`? Por que isso ocorre e como você precisaria modificar o código dentro do for para arrumar?"
   ]
  },
  {
   "cell_type": "markdown",
   "metadata": {},
   "source": [
    "## Média de Idade dos Apresentadores\n",
    "\n",
    "Nesse exercício, recebemos uma lista de dicionários. Cada item na lista contém informações de uma pessoa conhecida da televisão brasileira:"
   ]
  },
  {
   "cell_type": "code",
   "execution_count": 1,
   "metadata": {},
   "outputs": [],
   "source": [
    "tv = [\n",
    "    {\n",
    "        \"nome\": \"Faustão\",\n",
    "        \"nascimento\": 1950,\n",
    "        \"estado\": \"SP\"\n",
    "    },\n",
    "    {\n",
    "        \"nome\": \"Sílvio Santos\",\n",
    "        \"nascimento\": 1930,\n",
    "        \"estado\": \"RJ\"\n",
    "    },\n",
    "    {\n",
    "        \"nome\": \"Ana Maria Braga\",\n",
    "        \"nascimento\": 1949,\n",
    "        \"estado\": \"SP\"\n",
    "    },\n",
    "    {\n",
    "        \"nome\": \"Maísa Silva\",\n",
    "        \"nascimento\": 2002,\n",
    "        \"estado\": \"SP\"\n",
    "    },\n",
    "    {\n",
    "        \"nome\": \"Renato Aragão\",\n",
    "        \"nascimento\": 1935,\n",
    "        \"estado\": \"CE\"\n",
    "    },\n",
    "    {\n",
    "        \"nome\": \"Celso Portiolli\",\n",
    "        \"nascimento\": 1967,\n",
    "        \"estado\": \"PR\"\n",
    "    },\n",
    "    {\n",
    "        \"nome\": \"Xuxa\",\n",
    "        \"nascimento\": 1963,\n",
    "        \"estado\": \"RS\"\n",
    "    }\n",
    "]"
   ]
  },
  {
   "cell_type": "markdown",
   "metadata": {},
   "source": [
    "### Qual a Média de Idade dos Apresentadores Nascidos em SP?"
   ]
  },
  {
   "cell_type": "markdown",
   "metadata": {},
   "source": [
    "Nesse primeiro problema, devemos filtrar a lista e calcular a idade apenas dos nascidos em SP. Vamos considerar inicialmente o ano como sendo fixo, em 2019. Depois calcularemos a idade com base no ano corrente."
   ]
  },
  {
   "cell_type": "markdown",
   "metadata": {},
   "source": [
    "Vamos começar com uma filtragem simples, pegando todas as informações de todos os nascidos em SP:"
   ]
  },
  {
   "cell_type": "code",
   "execution_count": 8,
   "metadata": {},
   "outputs": [
    {
     "name": "stdout",
     "output_type": "stream",
     "text": [
      "[{'nome': 'Faustão', 'nascimento': 1950, 'estado': 'SP'}, {'nome': 'Ana Maria Braga', 'nascimento': 1949, 'estado': 'SP'}, {'nome': 'Maísa Silva', 'nascimento': 2002, 'estado': 'SP'}]\n"
     ]
    }
   ],
   "source": [
    "from_sp = [\n",
    "    person\n",
    "    for person in tv\n",
    "    if person[\"estado\"] == \"SP\"\n",
    "]\n",
    "\n",
    "print(from_sp)"
   ]
  },
  {
   "cell_type": "markdown",
   "metadata": {},
   "source": [
    "De fato, conseguimos pegar todas as informações referentes aos nascidos em SP. Vamos agora pegar apenas o ano de nascimento:"
   ]
  },
  {
   "cell_type": "code",
   "execution_count": 7,
   "metadata": {},
   "outputs": [
    {
     "name": "stdout",
     "output_type": "stream",
     "text": [
      "[1950, 1949, 2002]\n"
     ]
    }
   ],
   "source": [
    "from_sp = [\n",
    "    person[\"nascimento\"]\n",
    "    for person in tv\n",
    "    if person[\"estado\"] == \"SP\"\n",
    "]\n",
    "\n",
    "print(from_sp)"
   ]
  },
  {
   "cell_type": "markdown",
   "metadata": {},
   "source": [
    "Agora que conseguimos chegar nos anos de nascimento, nós temos dois caminhos diferentes para chegar na média de idade. A primeira delas é simplesmente calcular o ano médio de nascimento e comparar com 2019:"
   ]
  },
  {
   "cell_type": "code",
   "execution_count": 9,
   "metadata": {},
   "outputs": [
    {
     "name": "stdout",
     "output_type": "stream",
     "text": [
      "A média de idade é 52.0\n"
     ]
    }
   ],
   "source": [
    "from_sp = [\n",
    "    person[\"nascimento\"]\n",
    "    for person in tv\n",
    "    if person[\"estado\"] == \"SP\"\n",
    "]\n",
    "\n",
    "average_year = sum(from_sp) / 3\n",
    "average_age = 2019 - average_year\n",
    "\n",
    "print(f\"A média de idade é {average_age}\")"
   ]
  },
  {
   "cell_type": "markdown",
   "metadata": {},
   "source": [
    "Outra forma é calcular a idade de cada um e tirar a média depois:"
   ]
  },
  {
   "cell_type": "code",
   "execution_count": 14,
   "metadata": {},
   "outputs": [
    {
     "name": "stdout",
     "output_type": "stream",
     "text": [
      "A média de idade é 52.0\n"
     ]
    }
   ],
   "source": [
    "from_sp = [\n",
    "    person[\"nascimento\"]\n",
    "    for person in tv\n",
    "    if person[\"estado\"] == \"SP\"\n",
    "]\n",
    "\n",
    "# Calculando a idade de cada ano listado em\n",
    "# \"from_sp\" com base no ano de 2019\n",
    "ages = [\n",
    "    2019 - year\n",
    "    for year in from_sp\n",
    "]\n",
    "\n",
    "# Computando a média das idades\n",
    "average_age = sum(ages) / len(ages)\n",
    "\n",
    "print(f\"A média de idade é {average_age}\")"
   ]
  },
  {
   "cell_type": "markdown",
   "metadata": {},
   "source": [
    "#### Descobrindo o Ano Atual\n",
    "Finalmente vamos lidar com a questão de como obter o ano corrente. Para isso vamos usar a biblioteca `datetime`, do Python. [Documentação Oficial](https://docs.python.org/pt-br/3/library/datetime.html).\n",
    "\n",
    "Dentro do módulo `datetime`, existe uma classe chamada `datetime` também. Os nomes iguais podem causar um pouquinho de confusão quando a gente tá começando, mas em caso de dúvidas não se preocupe em voltar nesse material ou na documentação! Programar é muito mais do que ficar decorando nomes e onde eles ficam :)\n",
    "\n",
    "Por fim, dentro desse \"segundo datetime\" existe a função `now()`, que vai nos retornar a data e a hora atuais! Chega de teoria e vamos para o código:"
   ]
  },
  {
   "cell_type": "code",
   "execution_count": 38,
   "metadata": {},
   "outputs": [
    {
     "data": {
      "text/plain": [
       "datetime.datetime(2019, 11, 30, 10, 52, 59, 344803)"
      ]
     },
     "execution_count": 38,
     "metadata": {},
     "output_type": "execute_result"
    }
   ],
   "source": [
    "# Importando a classe datetime de dentro do módulo datetime\n",
    "from datetime import datetime\n",
    "datetime.now()\n"
   ]
  },
  {
   "cell_type": "markdown",
   "metadata": {},
   "source": [
    "Se você apertar `CTRL+ENTER` na célula de cima algumas vezes, você vai ver o valor mudando conforme o tempo passa. Teste!"
   ]
  },
  {
   "cell_type": "code",
   "execution_count": 40,
   "metadata": {},
   "outputs": [
    {
     "ename": "AttributeError",
     "evalue": "module 'datetime' has no attribute 'now'",
     "output_type": "error",
     "traceback": [
      "\u001b[0;31m---------------------------------------------------------------------------\u001b[0m",
      "\u001b[0;31mAttributeError\u001b[0m                            Traceback (most recent call last)",
      "\u001b[0;32m<ipython-input-40-d34ee890ee0e>\u001b[0m in \u001b[0;36m<module>\u001b[0;34m\u001b[0m\n\u001b[1;32m      1\u001b[0m \u001b[0;31m# Observe que importar só datetime dá um erro:\u001b[0m\u001b[0;34m\u001b[0m\u001b[0;34m\u001b[0m\u001b[0;34m\u001b[0m\u001b[0m\n\u001b[1;32m      2\u001b[0m \u001b[0;32mimport\u001b[0m \u001b[0mdatetime\u001b[0m\u001b[0;34m\u001b[0m\u001b[0;34m\u001b[0m\u001b[0m\n\u001b[0;32m----> 3\u001b[0;31m \u001b[0mdatetime\u001b[0m\u001b[0;34m.\u001b[0m\u001b[0mnow\u001b[0m\u001b[0;34m(\u001b[0m\u001b[0;34m)\u001b[0m\u001b[0;34m\u001b[0m\u001b[0;34m\u001b[0m\u001b[0m\n\u001b[0m",
      "\u001b[0;31mAttributeError\u001b[0m: module 'datetime' has no attribute 'now'"
     ]
    }
   ],
   "source": [
    "# Observe que importar só datetime dá um erro:\n",
    "import datetime\n",
    "datetime.now()"
   ]
  },
  {
   "cell_type": "code",
   "execution_count": 41,
   "metadata": {},
   "outputs": [
    {
     "data": {
      "text/plain": [
       "datetime.datetime(2019, 11, 30, 10, 55, 20, 734212)"
      ]
     },
     "execution_count": 41,
     "metadata": {},
     "output_type": "execute_result"
    }
   ],
   "source": [
    "# Mas podemos importar só datetime e acessar o\n",
    "# \"outro\" datetime de dentro do primeiro:\n",
    "import datetime\n",
    "datetime.datetime.now()"
   ]
  },
  {
   "cell_type": "markdown",
   "metadata": {},
   "source": [
    "A função `now()` ([Documentação](https://docs.python.org/pt-br/3/library/datetime.html#datetime.datetime.now)) nos retorna a data e a hora atuais, junto com todos os seus parâmetros:"
   ]
  },
  {
   "cell_type": "code",
   "execution_count": 44,
   "metadata": {},
   "outputs": [
    {
     "data": {
      "text/plain": [
       "2019"
      ]
     },
     "execution_count": 44,
     "metadata": {},
     "output_type": "execute_result"
    }
   ],
   "source": [
    "# Importando a classe datetime de dentro do módulo datetime\n",
    "from datetime import datetime\n",
    "now = datetime.now()\n",
    "\n",
    "now.year"
   ]
  },
  {
   "cell_type": "markdown",
   "metadata": {},
   "source": [
    "Podemos imprimir todos eles:"
   ]
  },
  {
   "cell_type": "code",
   "execution_count": 46,
   "metadata": {},
   "outputs": [
    {
     "name": "stdout",
     "output_type": "stream",
     "text": [
      "O ano é 2019\n",
      "O mês é 11\n",
      "O dia é 30\n",
      "A hora é 11\n"
     ]
    }
   ],
   "source": [
    "# Importando a classe datetime de dentro do módulo datetime\n",
    "from datetime import datetime\n",
    "now = datetime.now()\n",
    "\n",
    "print(f\"O ano é {now.year}\")\n",
    "print(f\"O mês é {now.month}\")\n",
    "print(f\"O dia é {now.day}\")\n",
    "print(f\"A hora é {now.hour}\")\n"
   ]
  },
  {
   "cell_type": "markdown",
   "metadata": {},
   "source": [
    "E com isso nós podemos mudar o código para usar o ano atual ao invés de um ano fixo:"
   ]
  },
  {
   "cell_type": "code",
   "execution_count": 49,
   "metadata": {},
   "outputs": [
    {
     "name": "stdout",
     "output_type": "stream",
     "text": [
      "A média de idade é 52.0\n"
     ]
    }
   ],
   "source": [
    "from datetime import datetime\n",
    "\n",
    "year = datetime.now().year\n",
    "\n",
    "from_sp = [\n",
    "    person[\"nascimento\"]\n",
    "    for person in tv\n",
    "    if person[\"estado\"] == \"SP\"\n",
    "]\n",
    "\n",
    "average_year = sum(from_sp) / 3\n",
    "average_age = year - average_year\n",
    "\n",
    "print(f\"A média de idade é {average_age}\")"
   ]
  },
  {
   "cell_type": "markdown",
   "metadata": {},
   "source": [
    "### Qual a Média de Idade dos Apresentadores Nascidos Fora de SP?\n",
    "\n",
    "O raciocínio por trás desse problema é muito parecido com o do problema anterior com a exceção da regra colocada dentro de um `if`. Caso você tenha dúvidas quanto ao processo, consulte a solução do exercício acima.\n",
    "\n",
    "A solução utilizando de _list comprehensions_ e computando a idade com relação a um ano fixo é:"
   ]
  },
  {
   "cell_type": "code",
   "execution_count": 53,
   "metadata": {},
   "outputs": [
    {
     "name": "stdout",
     "output_type": "stream",
     "text": [
      "A média de idade é 70.25\n"
     ]
    }
   ],
   "source": [
    "not_from_sp = [\n",
    "    person[\"nascimento\"]\n",
    "    for person in tv\n",
    "    if person[\"estado\"] != \"SP\"\n",
    "]\n",
    "\n",
    "average_year = sum(not_from_sp) / len(not_from_sp)\n",
    "average_age = 2019 - average_year\n",
    "\n",
    "print(f\"A média de idade é {average_age}\")"
   ]
  },
  {
   "cell_type": "markdown",
   "metadata": {},
   "source": [
    "Também podemos calcular a idade com base no ano atual:"
   ]
  },
  {
   "cell_type": "code",
   "execution_count": 55,
   "metadata": {},
   "outputs": [
    {
     "name": "stdout",
     "output_type": "stream",
     "text": [
      "A média de idade é 70.25\n"
     ]
    }
   ],
   "source": [
    "from datetime import datetime\n",
    "\n",
    "year = datetime.now().year\n",
    "\n",
    "not_from_sp = [\n",
    "    person[\"nascimento\"]\n",
    "    for person in tv\n",
    "    if person[\"estado\"] != \"SP\"\n",
    "]\n",
    "\n",
    "average_year = sum(not_from_sp) / len(not_from_sp)\n",
    "average_age = year - average_year\n",
    "\n",
    "print(f\"A média de idade é {average_age}\")"
   ]
  }
 ],
 "metadata": {
  "kernelspec": {
   "display_name": "Python 3",
   "language": "python",
   "name": "python3"
  },
  "language_info": {
   "codemirror_mode": {
    "name": "ipython",
    "version": 3
   },
   "file_extension": ".py",
   "mimetype": "text/x-python",
   "name": "python",
   "nbconvert_exporter": "python",
   "pygments_lexer": "ipython3",
   "version": "3.7.3"
  },
  "toc": {
   "base_numbering": 1,
   "nav_menu": {
    "height": "143px",
    "width": "554px"
   },
   "number_sections": true,
   "sideBar": true,
   "skip_h1_title": false,
   "title_cell": "Conteúdo",
   "title_sidebar": "Conteúdo",
   "toc_cell": true,
   "toc_position": {},
   "toc_section_display": true,
   "toc_window_display": true
  }
 },
 "nbformat": 4,
 "nbformat_minor": 2
}
