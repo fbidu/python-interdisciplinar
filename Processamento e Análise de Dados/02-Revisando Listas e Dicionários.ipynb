{
 "cells": [
  {
   "cell_type": "markdown",
   "metadata": {},
   "source": [
    "# Listas & Dicionários\n",
    "\n",
    "Neste material, lidaremos com coleções de dados. Ao invés de tratarmos de uma informação em especial, como a idade de uma pessoa, lidaremos com lotes dessas informações, como a idade de todas as pessoas em um grupo de 300 alunos.\n",
    "\n",
    "Para isso, precisaremos de **estruturas de dados que nos permitam guardar mais do que um único número**. Esse é o caso de uma **lista**. Em alguns momentos nós iremos precisar **ligar uma informação à outra**, como ligar o nome de uma pessoa à sua idade. Esse é um caso dos muitos casos de uso que um **dicionário** pode ter\n",
    "\n",
    "## Tipos Básicos em Python\n",
    "\n",
    "Variáveis em Python pode ser de alguns tipos simples como inteiros, texto (\"string\"), booleano (verdadeiro/falso), números reais (\"float\") e até mesmo números complexos."
   ]
  },
  {
   "cell_type": "code",
   "execution_count": 6,
   "metadata": {},
   "outputs": [
    {
     "name": "stdout",
     "output_type": "stream",
     "text": [
      "Estamos no ano de 2019\n",
      "Esse texto foi escrito na cidade de Campinas\n",
      "Agora está fazendo 34 graus\n"
     ]
    }
   ],
   "source": [
    "city = \"Campinas\"\n",
    "year = 2019\n",
    "temp = 34.3\n",
    "\n",
    "print(f\"Estamos no ano de {year}\")\n",
    "print(\"Esse texto foi escrito na cidade de {}\".format(city))\n",
    "print(\"Agora está fazendo %d graus\" % temp)"
   ]
  },
  {
   "cell_type": "markdown",
   "metadata": {},
   "source": [
    "O exemplo de código acima envolve variáveis de três tipos e três formas diferentes de colocar valores de variáveis dentros de textos. A primeira abordagem é a mais moderna, as [f-strings](https://realpython.com/python-f-strings/). A segunda usa a [função format](https://pt.stackoverflow.com/questions/225498/formatando-strings-com-format-e/225531). Finalmente, por último, temos o operador %, que é mais antigo. Mais detalhes sobre os dois últimos métodos podem ser vistos [aqui](https://pyformat.info/)"
   ]
  }
 ],
 "metadata": {
  "kernelspec": {
   "display_name": "Python 3",
   "language": "python",
   "name": "python3"
  },
  "language_info": {
   "codemirror_mode": {
    "name": "ipython",
    "version": 3
   },
   "file_extension": ".py",
   "mimetype": "text/x-python",
   "name": "python",
   "nbconvert_exporter": "python",
   "pygments_lexer": "ipython3",
   "version": "3.7.3"
  }
 },
 "nbformat": 4,
 "nbformat_minor": 2
}
