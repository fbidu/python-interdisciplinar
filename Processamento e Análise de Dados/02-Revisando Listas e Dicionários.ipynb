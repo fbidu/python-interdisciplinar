{
 "cells": [
  {
   "cell_type": "markdown",
   "metadata": {},
   "source": [
    "# Listas & Dicionários\n",
    "\n",
    "Neste material, lidaremos com coleções de dados. Ao invés de tratarmos de uma informação em especial, como a idade de uma pessoa, lidaremos com lotes dessas informações, como a idade de todas as pessoas em um grupo de 300 alunos.\n",
    "\n",
    "Para isso, precisaremos de **estruturas de dados que nos permitam guardar mais do que um único número**. Esse é o caso de uma **lista**. Em alguns momentos nós iremos precisar **ligar uma informação à outra**, como ligar o nome de uma pessoa à sua idade. Esse é um caso dos muitos casos de uso que um **dicionário** pode ter\n",
    "\n",
    "## Tipos Básicos em Python\n",
    "\n",
    "Variáveis em Python pode ser de alguns tipos simples como inteiros, texto (\"string\"), booleano (verdadeiro/falso), números reais (\"float\") e até mesmo números complexos."
   ]
  },
  {
   "cell_type": "code",
   "execution_count": 6,
   "metadata": {},
   "outputs": [
    {
     "name": "stdout",
     "output_type": "stream",
     "text": [
      "Estamos no ano de 2019\n",
      "Esse texto foi escrito na cidade de Campinas\n",
      "Agora está fazendo 34 graus\n"
     ]
    }
   ],
   "source": [
    "city = \"Campinas\"\n",
    "year = 2019\n",
    "temp = 34.3\n",
    "\n",
    "print(f\"Estamos no ano de {year}\")\n",
    "print(\"Esse texto foi escrito na cidade de {}\".format(city))\n",
    "print(\"Agora está fazendo %d graus\" % temp)"
   ]
  },
  {
   "cell_type": "markdown",
   "metadata": {},
   "source": [
    "O exemplo de código acima envolve variáveis de três tipos e três formas diferentes de colocar valores de variáveis dentros de textos. A primeira abordagem é a mais moderna, as [f-strings](https://realpython.com/python-f-strings/). A segunda usa a [função format](https://pt.stackoverflow.com/questions/225498/formatando-strings-com-format-e/225531). Finalmente, por último, temos o operador %, que é mais antigo. Mais detalhes sobre os dois últimos métodos podem ser vistos [aqui](https://pyformat.info/)"
   ]
  },
  {
   "cell_type": "markdown",
   "metadata": {},
   "source": [
    "## Listas\n",
    "\n",
    "Listas são estruturas que permitem que a gente guarde uma coleção de elementos em Python. Iniciamos uma lista com a sintaxe `nome = []`. Podemos colocar valores iniciais dentro dos colchetes:"
   ]
  },
  {
   "cell_type": "code",
   "execution_count": 7,
   "metadata": {},
   "outputs": [],
   "source": [
    "faculdades = [\"USP\", \"UNICAMP\"]"
   ]
  },
  {
   "cell_type": "code",
   "execution_count": 8,
   "metadata": {},
   "outputs": [],
   "source": [
    "faculdades.append(\"UNESP\")"
   ]
  },
  {
   "cell_type": "code",
   "execution_count": 9,
   "metadata": {},
   "outputs": [
    {
     "name": "stdout",
     "output_type": "stream",
     "text": [
      "['USP', 'UNICAMP', 'UNESP']\n"
     ]
    }
   ],
   "source": [
    "print(faculdades)"
   ]
  },
  {
   "cell_type": "markdown",
   "metadata": {},
   "source": [
    "Como mostrado no exemplo, o método `append` é usado para colocar itens dentro da lista. Outro método útil é o `index`, que nos retorna o índice de um elemento:"
   ]
  },
  {
   "cell_type": "code",
   "execution_count": 11,
   "metadata": {},
   "outputs": [
    {
     "data": {
      "text/plain": [
       "1"
      ]
     },
     "execution_count": 11,
     "metadata": {},
     "output_type": "execute_result"
    }
   ],
   "source": [
    "faculdades.index(\"UNICAMP\")"
   ]
  },
  {
   "cell_type": "markdown",
   "metadata": {},
   "source": [
    "Podemos acessar um elemento da lista através de seu índice:"
   ]
  },
  {
   "cell_type": "code",
   "execution_count": 14,
   "metadata": {},
   "outputs": [
    {
     "data": {
      "text/plain": [
       "'USP'"
      ]
     },
     "execution_count": 14,
     "metadata": {},
     "output_type": "execute_result"
    }
   ],
   "source": [
    "faculdades[0]"
   ]
  },
  {
   "cell_type": "code",
   "execution_count": 12,
   "metadata": {},
   "outputs": [
    {
     "data": {
      "text/plain": [
       "'UNICAMP'"
      ]
     },
     "execution_count": 12,
     "metadata": {},
     "output_type": "execute_result"
    }
   ],
   "source": [
    "faculdades[1]"
   ]
  },
  {
   "cell_type": "code",
   "execution_count": 13,
   "metadata": {},
   "outputs": [
    {
     "data": {
      "text/plain": [
       "'UNESP'"
      ]
     },
     "execution_count": 13,
     "metadata": {},
     "output_type": "execute_result"
    }
   ],
   "source": [
    "faculdades[2]"
   ]
  },
  {
   "cell_type": "markdown",
   "metadata": {},
   "source": [
    "Observe que listas em Python - assim como em diversas outras linguagens de programação - tem o número 0 como primeiro índice. O índice do último elemento é uma unidade menor que o tamanho da lista. Como essa lista possui 3 elementos, seus índices são 0, 1 e 2.\n",
    "\n",
    "O fato da numeração começar em 0 pode causar estranheza para pessoas de fora da computação. Caso você queira saber mais sobre o assunto, nesse [memorando](https://www.cs.utexas.edu/users/EWD/ewd08xx/EWD831.PDF) o famoso Cientista da Computação E. Dijkstra discute as diversas opções de numeração e os motivos de começar a contagem em 0 fazer sentido."
   ]
  },
  {
   "cell_type": "markdown",
   "metadata": {},
   "source": [
    "### Operações com Listas\n",
    "\n",
    "Listas permitem que a gente faça muitas operações sobre ela. As principais são:\n",
    "\n",
    "* Determinar o tamanho de uma lista, com a função `len()`"
   ]
  },
  {
   "cell_type": "code",
   "execution_count": 31,
   "metadata": {},
   "outputs": [
    {
     "data": {
      "text/plain": [
       "4"
      ]
     },
     "execution_count": 31,
     "metadata": {},
     "output_type": "execute_result"
    }
   ],
   "source": [
    "zoo = [\"zebra\", \"leão\", \"jacaré\", \"gorila\"]\n",
    "len(zoo)"
   ]
  },
  {
   "cell_type": "markdown",
   "metadata": {},
   "source": [
    "* Determinar se um elemento existe na lista, com o operador `in`"
   ]
  },
  {
   "cell_type": "code",
   "execution_count": 15,
   "metadata": {},
   "outputs": [
    {
     "data": {
      "text/plain": [
       "False"
      ]
     },
     "execution_count": 15,
     "metadata": {},
     "output_type": "execute_result"
    }
   ],
   "source": [
    "\"carteira\" in [\"mesa\", \"cadeira\", \"sofá\"]"
   ]
  },
  {
   "cell_type": "code",
   "execution_count": 16,
   "metadata": {},
   "outputs": [
    {
     "data": {
      "text/plain": [
       "True"
      ]
     },
     "execution_count": 16,
     "metadata": {},
     "output_type": "execute_result"
    }
   ],
   "source": [
    "brics = [\"BR\", \"IN\", \"CH\", \"SA\"]\n",
    "\"IN\" in brics"
   ]
  },
  {
   "cell_type": "markdown",
   "metadata": {},
   "source": [
    "* Determinar quantas vezes um elemento existe na lista, com o método `.count()`"
   ]
  },
  {
   "cell_type": "code",
   "execution_count": 17,
   "metadata": {},
   "outputs": [
    {
     "data": {
      "text/plain": [
       "2"
      ]
     },
     "execution_count": 17,
     "metadata": {},
     "output_type": "execute_result"
    }
   ],
   "source": [
    "ru_menu = [\"Cozido Misto\", \"Feijoada\", \"Cozido Misto\", \"Carne Assada\", \"Frango Frito\"]\n",
    "\n",
    "ru_menu.count(\"Cozido Misto\")"
   ]
  },
  {
   "cell_type": "markdown",
   "metadata": {},
   "source": [
    "* Remover elementos com o método `.remove()`:"
   ]
  },
  {
   "cell_type": "code",
   "execution_count": 23,
   "metadata": {},
   "outputs": [
    {
     "name": "stdout",
     "output_type": "stream",
     "text": [
      "['A', 'E', 'I', 'F', 'O', 'U']\n",
      "['A', 'E', 'I', 'O', 'U']\n"
     ]
    }
   ],
   "source": [
    "vogais = [\"A\", \"E\", \"I\", \"F\", \"O\", \"U\"]\n",
    "print(vogais)\n",
    "vogais.remove(\"F\")\n",
    "print(vogais)"
   ]
  },
  {
   "cell_type": "markdown",
   "metadata": {},
   "source": [
    "* Ordenar uma lista com `.sort()`: "
   ]
  },
  {
   "cell_type": "code",
   "execution_count": 25,
   "metadata": {},
   "outputs": [
    {
     "name": "stdout",
     "output_type": "stream",
     "text": [
      "['FEA', 'FEAGRI', 'FEEC', 'FEM', 'IA', 'IB', 'IC', 'IFGW', 'IG']\n"
     ]
    }
   ],
   "source": [
    "unicamp = [\"IG\", \"IFGW\", \"IA\", \"IB\", \"IC\", \"FEA\", \"FEAGRI\", \"FEEC\", \"FEM\"]\n",
    "unicamp.sort()\n",
    "print(unicamp)"
   ]
  },
  {
   "cell_type": "markdown",
   "metadata": {},
   "source": [
    "### Exercícios\n",
    "\n",
    "1. Crie uma lista vazia\n",
    "2. Adicione as letras do seu nome nela\n",
    "3. Conte quantas vezes a primeira letra do seu nome aparece no seu nome\n",
    "4. Remova da lista a última letra do seu nome\n",
    "5. Ordene a lista\n",
    "6. Imprima o resultado final"
   ]
  },
  {
   "cell_type": "markdown",
   "metadata": {},
   "source": [
    "### Iterações\n",
    "\n",
    "Em Python, podemos utilizar do loop `for` para passear por uma lista:"
   ]
  },
  {
   "cell_type": "code",
   "execution_count": 26,
   "metadata": {},
   "outputs": [
    {
     "name": "stdout",
     "output_type": "stream",
     "text": [
      "Felipe\n",
      "Aline\n",
      "Matheus\n",
      "Flávia\n"
     ]
    }
   ],
   "source": [
    "users = [\"Felipe\", \"Aline\", \"Matheus\", \"Flávia\"]\n",
    "\n",
    "for name in users:\n",
    "    print(name)"
   ]
  },
  {
   "cell_type": "markdown",
   "metadata": {},
   "source": [
    "Essa construção `for <variável> in <lista>` é bastante poderosa e permite que a gente percorra toda a lista sem nos preocuparmos com índices. Esse estilo de loop é conhecido como \"for each\" em outras linguagens mas é o estilo padrão em Python. Caso você queira lidar também com o índice, existem duas opções.\n",
    "\n",
    "A primeira é iterar pelos índices:"
   ]
  },
  {
   "cell_type": "code",
   "execution_count": 28,
   "metadata": {},
   "outputs": [
    {
     "name": "stdout",
     "output_type": "stream",
     "text": [
      "O usuário 0 é Felipe\n",
      "O usuário 1 é Aline\n",
      "O usuário 2 é Matheus\n",
      "O usuário 3 é Flávia\n"
     ]
    }
   ],
   "source": [
    "for i in range(len(users)):\n",
    "    print(f\"O usuário {i} é {users[i]}\")"
   ]
  },
  {
   "cell_type": "markdown",
   "metadata": {},
   "source": [
    "A segunda é usar da função `enumerate`:"
   ]
  },
  {
   "cell_type": "code",
   "execution_count": 33,
   "metadata": {},
   "outputs": [
    {
     "name": "stdout",
     "output_type": "stream",
     "text": [
      "O usuário 0 é Felipe\n",
      "O usuário 1 é Aline\n",
      "O usuário 2 é Matheus\n",
      "O usuário 3 é Flávia\n"
     ]
    }
   ],
   "source": [
    "for i, name in enumerate(users):\n",
    "    print(f\"O usuário {i} é {name}\")"
   ]
  },
  {
   "cell_type": "markdown",
   "metadata": {},
   "source": [
    "### Referências Adicionais\n",
    "\n",
    "Esse tópico tem como objetivo apenas revisar alguns conceitos. Você pode encontrar mais informações sobre listas na referência disponível no primeiro capítulo \"Introdução\""
   ]
  },
  {
   "cell_type": "markdown",
   "metadata": {},
   "source": [
    "## Dicionários\n",
    "\n",
    "Se listas nos permitem guardar informações arbitrárias que são acessadas exclusivamente por um índice numérico, dicionários são construções mais robustas, que nos permitem associar chaves que não são necessariamente numéricas à valores.\n",
    "\n",
    "Uma das melhores formas de pensar em um dicionário é como um dicionário físico mesmo, uma entidade que vai relacionar um conceito - no caso uma palavra - a outro - no caso o seu significado:"
   ]
  },
  {
   "cell_type": "code",
   "execution_count": 35,
   "metadata": {},
   "outputs": [
    {
     "name": "stdout",
     "output_type": "stream",
     "text": [
      "Primeira letra do alfabeto\n"
     ]
    }
   ],
   "source": [
    "dicionario = {\n",
    "    'a': 'Primeira letra do alfabeto',\n",
    "    'b': 'Segunda letra do alfabeto'\n",
    "}\n",
    "\n",
    "print(dicionario['a'])"
   ]
  },
  {
   "cell_type": "markdown",
   "metadata": {},
   "source": [
    "Observe que um dicionário possui uma estrutura diferente de uma lista. De início, temos que um dicionário é delimitado por chaves `{ }` do que por colchetes `[ ]`. Então, definimos **pares de chaves e valores**. Cada par é definido por uma chave, seguido de dois pontos e seguido do valor. Por fim, cada par chave-valor é separado por vírgulas."
   ]
  },
  {
   "cell_type": "markdown",
   "metadata": {},
   "source": [
    "O acesso a um dicionário é bem similar ao acesso a uma lista, cada valor pode ser acessado por sua chave, usando colchetes igual numa lista:"
   ]
  },
  {
   "cell_type": "code",
   "execution_count": 37,
   "metadata": {},
   "outputs": [
    {
     "name": "stdout",
     "output_type": "stream",
     "text": [
      "23\n"
     ]
    }
   ],
   "source": [
    "user = {\n",
    "    \"nome\": \"Joaquina\",\n",
    "    \"idade\": 23,\n",
    "    \"fumante\": False,\n",
    "    \"altura\": 1.65,\n",
    "    \"nascimento\": \"15/11\"\n",
    "}\n",
    "\n",
    "print(user[\"idade\"])"
   ]
  },
  {
   "cell_type": "markdown",
   "metadata": {},
   "source": [
    "Podemos usar um loop `for` para percorrer todas as chaves:"
   ]
  },
  {
   "cell_type": "code",
   "execution_count": 44,
   "metadata": {},
   "outputs": [
    {
     "name": "stdout",
     "output_type": "stream",
     "text": [
      "Chave 'nome' tem valor 'Joaquina'\n",
      "Chave 'idade' tem valor '23'\n",
      "Chave 'fumante' tem valor 'False'\n",
      "Chave 'altura' tem valor '1.65'\n",
      "Chave 'nascimento' tem valor '15/11'\n"
     ]
    }
   ],
   "source": [
    "for key in user:\n",
    "    print(f\"Chave '{key}' tem valor '{user[key]}'\")"
   ]
  },
  {
   "cell_type": "markdown",
   "metadata": {},
   "source": [
    "E podemos usar um loop mais poderoso, acessando chaves e valores de uma vez:"
   ]
  },
  {
   "cell_type": "code",
   "execution_count": 43,
   "metadata": {},
   "outputs": [
    {
     "name": "stdout",
     "output_type": "stream",
     "text": [
      "Chave 'nome' tem valor 'Joaquina'\n",
      "Chave 'idade' tem valor '23'\n",
      "Chave 'fumante' tem valor 'False'\n",
      "Chave 'altura' tem valor '1.65'\n",
      "Chave 'nascimento' tem valor '15/11'\n"
     ]
    }
   ],
   "source": [
    "for key, value in user.items():\n",
    "    print(f\"Chave '{key}' tem valor '{value}'\")"
   ]
  }
 ],
 "metadata": {
  "kernelspec": {
   "display_name": "Python 3",
   "language": "python",
   "name": "python3"
  },
  "language_info": {
   "codemirror_mode": {
    "name": "ipython",
    "version": 3
   },
   "file_extension": ".py",
   "mimetype": "text/x-python",
   "name": "python",
   "nbconvert_exporter": "python",
   "pygments_lexer": "ipython3",
   "version": "3.7.3"
  }
 },
 "nbformat": 4,
 "nbformat_minor": 2
}
